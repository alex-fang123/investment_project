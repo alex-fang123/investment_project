{
 "cells": [
  {
   "metadata": {},
   "cell_type": "markdown",
   "source": "# Find anomaly using transformer",
   "id": "d0da0e62b7b0fe92"
  },
  {
   "metadata": {},
   "cell_type": "markdown",
   "source": "# 1. give tag using model",
   "id": "a74d7710503889bb"
  },
  {
   "metadata": {
    "ExecuteTime": {
     "end_time": "2024-06-15T12:58:48.916552Z",
     "start_time": "2024-06-15T12:58:47.295919Z"
    }
   },
   "cell_type": "code",
   "source": [
    "import torch\n",
    "import torch.nn as nn\n",
    "import torch.optim as optim\n",
    "from torch.utils.data import DataLoader, Dataset\n",
    "import numpy as np\n",
    "import pandas as pd\n",
    "from sklearn.preprocessing import StandardScaler\n",
    "from finance_byu import fama_macbeth\n",
    "import warnings"
   ],
   "id": "ccee1abeea4a4d19",
   "outputs": [],
   "execution_count": 1
  },
  {
   "metadata": {
    "ExecuteTime": {
     "end_time": "2024-06-15T12:58:48.919680Z",
     "start_time": "2024-06-15T12:58:48.917433Z"
    }
   },
   "cell_type": "code",
   "source": [
    "input_seq_size = 30\n",
    "output_seq_size = 1\n",
    "\n",
    "# Hyperparameters\n",
    "input_dim = input_seq_size * 32  # 特征数量\n",
    "d_model = 1024\n",
    "nhead = 64\n",
    "num_encoder_layers = 3\n",
    "dim_feedforward = 128\n",
    "dropout = 0.1\n",
    "seq_length = 30\n",
    "batch_size = 32\n",
    "num_epochs = 10\n",
    "learning_rate = 0.001"
   ],
   "id": "c80db448be952167",
   "outputs": [],
   "execution_count": 2
  },
  {
   "metadata": {
    "ExecuteTime": {
     "end_time": "2024-06-15T12:58:48.929785Z",
     "start_time": "2024-06-15T12:58:48.920641Z"
    }
   },
   "cell_type": "code",
   "source": "warnings.filterwarnings('ignore')",
   "id": "83eebfd58b4b0a36",
   "outputs": [],
   "execution_count": 3
  },
  {
   "metadata": {
    "ExecuteTime": {
     "end_time": "2024-06-15T12:58:49.037275Z",
     "start_time": "2024-06-15T12:58:48.930847Z"
    }
   },
   "cell_type": "code",
   "source": [
    "if torch.cuda.is_available():\n",
    "    device = torch.device('cuda')  # 选择第一个可用的GPU\n",
    "else:\n",
    "    device = torch.device('cpu')  # 若GPU不可用，则选择CPU"
   ],
   "id": "b14e1d09d8c50f50",
   "outputs": [],
   "execution_count": 4
  },
  {
   "metadata": {
    "ExecuteTime": {
     "end_time": "2024-06-15T12:58:49.046176Z",
     "start_time": "2024-06-15T12:58:49.038134Z"
    }
   },
   "cell_type": "code",
   "source": [
    "class StockDataset(Dataset):\n",
    "    def __init__(self, features, targets, seq_length=30):\n",
    "        self.features = features\n",
    "        self.targets = targets\n",
    "        self.seq_length = seq_length\n",
    "\n",
    "    def __len__(self):\n",
    "        return len(self.features) - self.seq_length\n",
    "\n",
    "    def __getitem__(self, idx):\n",
    "        x = self.features[idx:idx + self.seq_length]\n",
    "        y = self.targets[idx + self.seq_length]\n",
    "        return x, y\n",
    "\n",
    "\n",
    "class TransformerModel(nn.Module):\n",
    "    def __init__(self, input_dim, d_model, nhead, num_encoder_layers, dim_feedforward, dropout=0.1):\n",
    "        super(TransformerModel, self).__init__()\n",
    "        self.d_model = d_model\n",
    "        self.embedding = nn.Linear(input_dim, d_model)\n",
    "        self.pos_encoder = nn.Parameter(torch.zeros(1, 500, d_model))  # 500 is a max sequence length\n",
    "        encoder_layers = nn.TransformerEncoderLayer(d_model, nhead, dim_feedforward, dropout)\n",
    "        self.transformer_encoder = nn.TransformerEncoder(encoder_layers, num_encoder_layers)\n",
    "        self.decoder = nn.Linear(d_model, 1)\n",
    "\n",
    "    def forward(self, src):\n",
    "        src = self.embedding(src) * np.sqrt(self.d_model)\n",
    "        src += self.pos_encoder[:, :src.size(1), :]\n",
    "        output = self.transformer_encoder(src)\n",
    "        output = self.decoder(output[:, -1, :])\n",
    "        return output"
   ],
   "id": "9d1b50aa0a68ca97",
   "outputs": [],
   "execution_count": 5
  },
  {
   "metadata": {
    "ExecuteTime": {
     "end_time": "2024-06-15T12:58:49.427267Z",
     "start_time": "2024-06-15T12:58:49.046980Z"
    }
   },
   "cell_type": "code",
   "source": [
    "model = TransformerModel(input_dim=input_dim, d_model=d_model, nhead=nhead, num_encoder_layers=num_encoder_layers, dim_feedforward=dim_feedforward)\n",
    "model.load_state_dict(torch.load('models/new_10_epochs.pth'))\n",
    "model.to(device)"
   ],
   "id": "41a7609b4493d820",
   "outputs": [
    {
     "data": {
      "text/plain": [
       "TransformerModel(\n",
       "  (embedding): Linear(in_features=960, out_features=1024, bias=True)\n",
       "  (transformer_encoder): TransformerEncoder(\n",
       "    (layers): ModuleList(\n",
       "      (0-2): 3 x TransformerEncoderLayer(\n",
       "        (self_attn): MultiheadAttention(\n",
       "          (out_proj): NonDynamicallyQuantizableLinear(in_features=1024, out_features=1024, bias=True)\n",
       "        )\n",
       "        (linear1): Linear(in_features=1024, out_features=128, bias=True)\n",
       "        (dropout): Dropout(p=0.1, inplace=False)\n",
       "        (linear2): Linear(in_features=128, out_features=1024, bias=True)\n",
       "        (norm1): LayerNorm((1024,), eps=1e-05, elementwise_affine=True)\n",
       "        (norm2): LayerNorm((1024,), eps=1e-05, elementwise_affine=True)\n",
       "        (dropout1): Dropout(p=0.1, inplace=False)\n",
       "        (dropout2): Dropout(p=0.1, inplace=False)\n",
       "      )\n",
       "    )\n",
       "  )\n",
       "  (decoder): Linear(in_features=1024, out_features=1, bias=True)\n",
       ")"
      ]
     },
     "execution_count": 6,
     "metadata": {},
     "output_type": "execute_result"
    }
   ],
   "execution_count": 6
  },
  {
   "metadata": {
    "ExecuteTime": {
     "end_time": "2024-06-15T12:58:49.781160Z",
     "start_time": "2024-06-15T12:58:49.427947Z"
    }
   },
   "cell_type": "code",
   "source": [
    "data = pd.read_feather('temp/before1.6_monthly_stock_return.feather')\n",
    "\n",
    "data['index'] = data.index\n",
    "\n",
    "# change data type\n",
    "data['size_tag'] = data['size_tag'].astype('float64')\n",
    "data['ROE_tag'] = data['ROE_tag'].astype('float64')\n",
    "data['bm_tag'] = data['bm_tag'].astype('float64')\n",
    "data['INV_tag'] = data['INV_tag'].astype('float64')\n",
    "data['momentum_tag'] = data['momentum_tag'].astype('float64')\n",
    "data['reversal_tag'] = data['reversal_tag'].astype('float64')\n",
    "\n",
    "feature_list = ['monthly_stock_return', 'rf', 'excess_return',\n",
    "                'market_value', 'JAN', 'total_assets', 'total_shareholders_equity',\n",
    "                'BM ratio', 'ROE', 'assets_increasing_rate', 'momentum', 'reversal',\n",
    "                'size_tag', 'ROE_tag', 'bm_tag', 'INV_tag', 'momentum_tag',\n",
    "                'reversal_tag', 'mkt_risk_premium', 'SMB', 'HML', 'RMW', 'CMA',\n",
    "                't+1_excess_return', 'JAN t+1', 'size*JAN', 'BM*JAN',\n",
    "                'ROE*JAN', 'INV*JAN', 'MOM*JAN', 'REV*JAN',\n",
    "                'mkt_risk_premium*JAN']\n",
    "scaler = StandardScaler()\n",
    "mean_list = []\n",
    "std_list = []\n",
    "data[feature_list] = scaler.fit_transform(data[feature_list])\n",
    "normalized_data = data\n",
    "normalized_mean = scaler.mean_\n",
    "normalized_std = scaler.scale_"
   ],
   "id": "5ec18b2470005890",
   "outputs": [],
   "execution_count": 7
  },
  {
   "metadata": {
    "ExecuteTime": {
     "end_time": "2024-06-15T12:58:49.784446Z",
     "start_time": "2024-06-15T12:58:49.781877Z"
    }
   },
   "cell_type": "code",
   "source": [
    "def get_src(data, num_samples, input_seq_size):\n",
    "    if len(data) - input_seq_size - output_seq_size + 1 <= 0:\n",
    "        return\n",
    "    src_data = np.array([data[i:i + input_seq_size] for i in range(num_samples)])\n",
    "    return src_data\n",
    "\n",
    "\n",
    "def get_tgt(data, num_samples, input_seq_size, output_seq_size):\n",
    "    if len(data) - input_seq_size - output_seq_size + 1 <= 0:\n",
    "        return\n",
    "    tgt_data = np.array([data['monthly_stock_return'][i + input_seq_size:i + input_seq_size + output_seq_size] for i in range(num_samples)])\n",
    "    return tgt_data"
   ],
   "id": "51e8f66f60c7d48a",
   "outputs": [],
   "execution_count": 8
  },
  {
   "metadata": {
    "ExecuteTime": {
     "end_time": "2024-06-15T12:58:50.238192Z",
     "start_time": "2024-06-15T12:58:49.785199Z"
    }
   },
   "cell_type": "code",
   "source": [
    "criterion = nn.MSELoss()\n",
    "optimizer = optim.Adam(model.parameters(), lr=learning_rate)"
   ],
   "id": "ad146bdddf7a00cb",
   "outputs": [],
   "execution_count": 9
  },
  {
   "metadata": {
    "ExecuteTime": {
     "end_time": "2024-06-15T13:00:01.025544Z",
     "start_time": "2024-06-15T12:58:50.239642Z"
    }
   },
   "cell_type": "code",
   "source": [
    "# normalized_data = normalized_data[(normalized_data['Stkcd'] == \"000001\") | (normalized_data['Stkcd'] == \"000002\")]\n",
    "\n",
    "# test_data = normalized_data[normalized_data['month'] >= '2013-03-01']\n",
    "test_data = normalized_data\n",
    "\n",
    "test_data['new_factor'] = 0\n",
    "test_data['new_factor'] = test_data['new_factor'].astype('float64')\n",
    "\n",
    "src_data = test_data.groupby('Stkcd', observed=False).apply(\n",
    "    lambda x: get_src(x[feature_list + ['index',]], len(x) - input_seq_size - output_seq_size + 1, input_seq_size), include_groups=False)\n",
    "src_data.dropna(inplace=True)\n",
    "src_data = np.concatenate(src_data)\n",
    "src_data = src_data.reshape(src_data.shape[0], input_dim + input_seq_size)  # containing 30 index\n",
    "src_data = torch.tensor(src_data).float().to(device)\n",
    "\n",
    "tgt_data = test_data.groupby('Stkcd', observed=False).apply(\n",
    "    lambda x: get_tgt(x[feature_list], len(x) - input_seq_size - output_seq_size + 1, input_seq_size, output_seq_size), include_groups=False)\n",
    "tgt_data.dropna(inplace=True)\n",
    "tgt_data = np.concatenate(tgt_data)\n",
    "# tgt_data = tgt_data.reshape(tgt_data.shape[0], 32)\n",
    "tgt_data = torch.tensor(tgt_data).float().to(device)\n",
    "\n",
    "# Create DataLoader\n",
    "dataset = StockDataset(src_data, tgt_data, seq_length=input_seq_size)\n",
    "dataloader = DataLoader(dataset, batch_size=1, shuffle=True)\n",
    "\n",
    "model.eval()"
   ],
   "id": "37fcf8e9832ef01",
   "outputs": [
    {
     "data": {
      "text/plain": [
       "TransformerModel(\n",
       "  (embedding): Linear(in_features=960, out_features=1024, bias=True)\n",
       "  (transformer_encoder): TransformerEncoder(\n",
       "    (layers): ModuleList(\n",
       "      (0-2): 3 x TransformerEncoderLayer(\n",
       "        (self_attn): MultiheadAttention(\n",
       "          (out_proj): NonDynamicallyQuantizableLinear(in_features=1024, out_features=1024, bias=True)\n",
       "        )\n",
       "        (linear1): Linear(in_features=1024, out_features=128, bias=True)\n",
       "        (dropout): Dropout(p=0.1, inplace=False)\n",
       "        (linear2): Linear(in_features=128, out_features=1024, bias=True)\n",
       "        (norm1): LayerNorm((1024,), eps=1e-05, elementwise_affine=True)\n",
       "        (norm2): LayerNorm((1024,), eps=1e-05, elementwise_affine=True)\n",
       "        (dropout1): Dropout(p=0.1, inplace=False)\n",
       "        (dropout2): Dropout(p=0.1, inplace=False)\n",
       "      )\n",
       "    )\n",
       "  )\n",
       "  (decoder): Linear(in_features=1024, out_features=1, bias=True)\n",
       ")"
      ]
     },
     "execution_count": 10,
     "metadata": {},
     "output_type": "execute_result"
    }
   ],
   "execution_count": 10
  },
  {
   "metadata": {
    "ExecuteTime": {
     "end_time": "2024-06-15T13:52:36.324770Z",
     "start_time": "2024-06-15T13:00:01.026203Z"
    }
   },
   "cell_type": "code",
   "source": [
    "index_list = []\n",
    "with torch.no_grad():\n",
    "    total_loss = 0\n",
    "    for batch in dataloader:\n",
    "        x_batch, y_batch = batch\n",
    "        y_batch = y_batch.float()\n",
    "        index = int(x_batch[0][-1][-1])\n",
    "        index_list.append(index)\n",
    "        tmp = torch.zeros(1, input_seq_size, input_dim)\n",
    "        for i in range(len(x_batch[0])):\n",
    "            tmp[0][i] = torch.cat([x_batch[0][i][i*33:i*33+32] for i in range(input_seq_size)])\n",
    "        tmp = tmp.to(device)\n",
    "\n",
    "        output = model(tmp)\n",
    "        \n",
    "        result = float(output.squeeze())\n",
    "        test_data.loc[index, 'new_factor'] = result\n",
    "        \n",
    "        loss = criterion(output.squeeze(), y_batch)\n",
    "        total_loss += loss.item()\n",
    "    avg_loss = total_loss / len(dataloader)\n",
    "    print(f\"Loss on Test set: {avg_loss:.4f}\")"
   ],
   "id": "e9f9b7097072fe2d",
   "outputs": [
    {
     "name": "stdout",
     "output_type": "stream",
     "text": [
      "Loss on Test set: 1.1785\n"
     ]
    }
   ],
   "execution_count": 11
  },
  {
   "metadata": {
    "ExecuteTime": {
     "end_time": "2024-06-15T13:52:36.343349Z",
     "start_time": "2024-06-15T13:52:36.327247Z"
    }
   },
   "cell_type": "code",
   "source": [
    "# result, index\n",
    "min(index_list)"
   ],
   "id": "aa2477b2b9f02ec",
   "outputs": [
    {
     "data": {
      "text/plain": [
       "58"
      ]
     },
     "execution_count": 12,
     "metadata": {},
     "output_type": "execute_result"
    }
   ],
   "execution_count": 12
  },
  {
   "metadata": {
    "ExecuteTime": {
     "end_time": "2024-06-15T13:52:36.815545Z",
     "start_time": "2024-06-15T13:52:36.344376Z"
    }
   },
   "cell_type": "code",
   "source": [
    "test_data = test_data[test_data['index'].isin(index_list)]\n",
    "test_data[['Stkcd', 'month', 'new_factor', 'monthly_stock_return', 'index']]"
   ],
   "id": "cb724bc70ef1c3f1",
   "outputs": [
    {
     "data": {
      "text/plain": [
       "         Stkcd    month  new_factor  monthly_stock_return   index\n",
       "58      000001  2005-10   -0.083466             -0.132384      58\n",
       "59      000001  2005-11   -0.177387              0.072326      59\n",
       "60      000001  2005-12    0.001390              0.258480      60\n",
       "61      000001  2006-01   -0.198817              0.146743      61\n",
       "62      000001  2006-02   -0.510792              0.426388      62\n",
       "...        ...      ...         ...                   ...     ...\n",
       "663815  900957  2023-05    0.568868             -0.274241  663815\n",
       "663816  900957  2023-06    0.187155             -0.293254  663816\n",
       "663817  900957  2023-07   -0.399006              0.188710  663817\n",
       "663818  900957  2023-08    0.335511             -1.118303  663818\n",
       "663819  900957  2023-09    0.547083             -0.514830  663819\n",
       "\n",
       "[514605 rows x 5 columns]"
      ],
      "text/html": [
       "<div>\n",
       "<style scoped>\n",
       "    .dataframe tbody tr th:only-of-type {\n",
       "        vertical-align: middle;\n",
       "    }\n",
       "\n",
       "    .dataframe tbody tr th {\n",
       "        vertical-align: top;\n",
       "    }\n",
       "\n",
       "    .dataframe thead th {\n",
       "        text-align: right;\n",
       "    }\n",
       "</style>\n",
       "<table border=\"1\" class=\"dataframe\">\n",
       "  <thead>\n",
       "    <tr style=\"text-align: right;\">\n",
       "      <th></th>\n",
       "      <th>Stkcd</th>\n",
       "      <th>month</th>\n",
       "      <th>new_factor</th>\n",
       "      <th>monthly_stock_return</th>\n",
       "      <th>index</th>\n",
       "    </tr>\n",
       "  </thead>\n",
       "  <tbody>\n",
       "    <tr>\n",
       "      <th>58</th>\n",
       "      <td>000001</td>\n",
       "      <td>2005-10</td>\n",
       "      <td>-0.083466</td>\n",
       "      <td>-0.132384</td>\n",
       "      <td>58</td>\n",
       "    </tr>\n",
       "    <tr>\n",
       "      <th>59</th>\n",
       "      <td>000001</td>\n",
       "      <td>2005-11</td>\n",
       "      <td>-0.177387</td>\n",
       "      <td>0.072326</td>\n",
       "      <td>59</td>\n",
       "    </tr>\n",
       "    <tr>\n",
       "      <th>60</th>\n",
       "      <td>000001</td>\n",
       "      <td>2005-12</td>\n",
       "      <td>0.001390</td>\n",
       "      <td>0.258480</td>\n",
       "      <td>60</td>\n",
       "    </tr>\n",
       "    <tr>\n",
       "      <th>61</th>\n",
       "      <td>000001</td>\n",
       "      <td>2006-01</td>\n",
       "      <td>-0.198817</td>\n",
       "      <td>0.146743</td>\n",
       "      <td>61</td>\n",
       "    </tr>\n",
       "    <tr>\n",
       "      <th>62</th>\n",
       "      <td>000001</td>\n",
       "      <td>2006-02</td>\n",
       "      <td>-0.510792</td>\n",
       "      <td>0.426388</td>\n",
       "      <td>62</td>\n",
       "    </tr>\n",
       "    <tr>\n",
       "      <th>...</th>\n",
       "      <td>...</td>\n",
       "      <td>...</td>\n",
       "      <td>...</td>\n",
       "      <td>...</td>\n",
       "      <td>...</td>\n",
       "    </tr>\n",
       "    <tr>\n",
       "      <th>663815</th>\n",
       "      <td>900957</td>\n",
       "      <td>2023-05</td>\n",
       "      <td>0.568868</td>\n",
       "      <td>-0.274241</td>\n",
       "      <td>663815</td>\n",
       "    </tr>\n",
       "    <tr>\n",
       "      <th>663816</th>\n",
       "      <td>900957</td>\n",
       "      <td>2023-06</td>\n",
       "      <td>0.187155</td>\n",
       "      <td>-0.293254</td>\n",
       "      <td>663816</td>\n",
       "    </tr>\n",
       "    <tr>\n",
       "      <th>663817</th>\n",
       "      <td>900957</td>\n",
       "      <td>2023-07</td>\n",
       "      <td>-0.399006</td>\n",
       "      <td>0.188710</td>\n",
       "      <td>663817</td>\n",
       "    </tr>\n",
       "    <tr>\n",
       "      <th>663818</th>\n",
       "      <td>900957</td>\n",
       "      <td>2023-08</td>\n",
       "      <td>0.335511</td>\n",
       "      <td>-1.118303</td>\n",
       "      <td>663818</td>\n",
       "    </tr>\n",
       "    <tr>\n",
       "      <th>663819</th>\n",
       "      <td>900957</td>\n",
       "      <td>2023-09</td>\n",
       "      <td>0.547083</td>\n",
       "      <td>-0.514830</td>\n",
       "      <td>663819</td>\n",
       "    </tr>\n",
       "  </tbody>\n",
       "</table>\n",
       "<p>514605 rows × 5 columns</p>\n",
       "</div>"
      ]
     },
     "execution_count": 13,
     "metadata": {},
     "output_type": "execute_result"
    }
   ],
   "execution_count": 13
  },
  {
   "metadata": {},
   "cell_type": "markdown",
   "source": "# 2. find anomaly",
   "id": "427732e686543b8d"
  },
  {
   "metadata": {},
   "cell_type": "markdown",
   "source": "## 2.1 Fama-MacBeth regression",
   "id": "1ad4ba5934731e56"
  },
  {
   "metadata": {
    "ExecuteTime": {
     "end_time": "2024-06-15T13:52:36.825673Z",
     "start_time": "2024-06-15T13:52:36.816339Z"
    }
   },
   "cell_type": "code",
   "source": "test_data.head()",
   "id": "7d817fe5822a0477",
   "outputs": [
    {
     "data": {
      "text/plain": [
       "     Stkcd    month  monthly_stock_return        rf  excess_return  \\\n",
       "58  000001  2005-10             -0.132384  0.287363      -0.145755   \n",
       "59  000001  2005-11              0.072326  0.287363       0.058828   \n",
       "60  000001  2005-12              0.258480  0.287363       0.244866   \n",
       "61  000001  2006-01              0.146743  0.287363       0.133199   \n",
       "62  000001  2006-02              0.426388  0.287363       0.412670   \n",
       "\n",
       "    market_value  total_assets  total_shareholders_equity  BM ratio       ROE  \\\n",
       "58     -0.035252      3.285606                  -0.797119 -0.209182  0.008026   \n",
       "59     -0.030581      3.285606                  -0.797119 -0.209553  0.008026   \n",
       "60     -0.019802      3.434135                  -0.793254 -0.210263  0.007411   \n",
       "61     -0.012256      3.316484                  -0.791689 -0.210745  0.005891   \n",
       "62      0.005350      3.316484                  -0.791689 -0.211828  0.005891   \n",
       "\n",
       "    ...   JAN t+1  size*JAN    BM*JAN   ROE*JAN   INV*JAN   MOM*JAN   REV*JAN  \\\n",
       "58  ... -0.296715  0.066841 -0.047263 -0.004232 -0.001874 -0.216494 -0.038755   \n",
       "59  ... -0.296715  0.066841 -0.047263 -0.004232 -0.001874 -0.216494 -0.038755   \n",
       "60  ...  3.370240 -3.151475  0.924403  0.069667  0.020144  2.421625 -1.007881   \n",
       "61  ... -0.296715  0.066841 -0.047263 -0.004232 -0.001874 -0.216494 -0.038755   \n",
       "62  ... -0.296715  0.066841 -0.047263 -0.004232 -0.001874 -0.216494 -0.038755   \n",
       "\n",
       "    mkt_risk_premium*JAN  index  new_factor  \n",
       "58             -0.069897     58   -0.083466  \n",
       "59             -0.069897     59   -0.177387  \n",
       "60              2.879359     60    0.001390  \n",
       "61             -0.069897     61   -0.198817  \n",
       "62             -0.069897     62   -0.510792  \n",
       "\n",
       "[5 rows x 36 columns]"
      ],
      "text/html": [
       "<div>\n",
       "<style scoped>\n",
       "    .dataframe tbody tr th:only-of-type {\n",
       "        vertical-align: middle;\n",
       "    }\n",
       "\n",
       "    .dataframe tbody tr th {\n",
       "        vertical-align: top;\n",
       "    }\n",
       "\n",
       "    .dataframe thead th {\n",
       "        text-align: right;\n",
       "    }\n",
       "</style>\n",
       "<table border=\"1\" class=\"dataframe\">\n",
       "  <thead>\n",
       "    <tr style=\"text-align: right;\">\n",
       "      <th></th>\n",
       "      <th>Stkcd</th>\n",
       "      <th>month</th>\n",
       "      <th>monthly_stock_return</th>\n",
       "      <th>rf</th>\n",
       "      <th>excess_return</th>\n",
       "      <th>market_value</th>\n",
       "      <th>total_assets</th>\n",
       "      <th>total_shareholders_equity</th>\n",
       "      <th>BM ratio</th>\n",
       "      <th>ROE</th>\n",
       "      <th>...</th>\n",
       "      <th>JAN t+1</th>\n",
       "      <th>size*JAN</th>\n",
       "      <th>BM*JAN</th>\n",
       "      <th>ROE*JAN</th>\n",
       "      <th>INV*JAN</th>\n",
       "      <th>MOM*JAN</th>\n",
       "      <th>REV*JAN</th>\n",
       "      <th>mkt_risk_premium*JAN</th>\n",
       "      <th>index</th>\n",
       "      <th>new_factor</th>\n",
       "    </tr>\n",
       "  </thead>\n",
       "  <tbody>\n",
       "    <tr>\n",
       "      <th>58</th>\n",
       "      <td>000001</td>\n",
       "      <td>2005-10</td>\n",
       "      <td>-0.132384</td>\n",
       "      <td>0.287363</td>\n",
       "      <td>-0.145755</td>\n",
       "      <td>-0.035252</td>\n",
       "      <td>3.285606</td>\n",
       "      <td>-0.797119</td>\n",
       "      <td>-0.209182</td>\n",
       "      <td>0.008026</td>\n",
       "      <td>...</td>\n",
       "      <td>-0.296715</td>\n",
       "      <td>0.066841</td>\n",
       "      <td>-0.047263</td>\n",
       "      <td>-0.004232</td>\n",
       "      <td>-0.001874</td>\n",
       "      <td>-0.216494</td>\n",
       "      <td>-0.038755</td>\n",
       "      <td>-0.069897</td>\n",
       "      <td>58</td>\n",
       "      <td>-0.083466</td>\n",
       "    </tr>\n",
       "    <tr>\n",
       "      <th>59</th>\n",
       "      <td>000001</td>\n",
       "      <td>2005-11</td>\n",
       "      <td>0.072326</td>\n",
       "      <td>0.287363</td>\n",
       "      <td>0.058828</td>\n",
       "      <td>-0.030581</td>\n",
       "      <td>3.285606</td>\n",
       "      <td>-0.797119</td>\n",
       "      <td>-0.209553</td>\n",
       "      <td>0.008026</td>\n",
       "      <td>...</td>\n",
       "      <td>-0.296715</td>\n",
       "      <td>0.066841</td>\n",
       "      <td>-0.047263</td>\n",
       "      <td>-0.004232</td>\n",
       "      <td>-0.001874</td>\n",
       "      <td>-0.216494</td>\n",
       "      <td>-0.038755</td>\n",
       "      <td>-0.069897</td>\n",
       "      <td>59</td>\n",
       "      <td>-0.177387</td>\n",
       "    </tr>\n",
       "    <tr>\n",
       "      <th>60</th>\n",
       "      <td>000001</td>\n",
       "      <td>2005-12</td>\n",
       "      <td>0.258480</td>\n",
       "      <td>0.287363</td>\n",
       "      <td>0.244866</td>\n",
       "      <td>-0.019802</td>\n",
       "      <td>3.434135</td>\n",
       "      <td>-0.793254</td>\n",
       "      <td>-0.210263</td>\n",
       "      <td>0.007411</td>\n",
       "      <td>...</td>\n",
       "      <td>3.370240</td>\n",
       "      <td>-3.151475</td>\n",
       "      <td>0.924403</td>\n",
       "      <td>0.069667</td>\n",
       "      <td>0.020144</td>\n",
       "      <td>2.421625</td>\n",
       "      <td>-1.007881</td>\n",
       "      <td>2.879359</td>\n",
       "      <td>60</td>\n",
       "      <td>0.001390</td>\n",
       "    </tr>\n",
       "    <tr>\n",
       "      <th>61</th>\n",
       "      <td>000001</td>\n",
       "      <td>2006-01</td>\n",
       "      <td>0.146743</td>\n",
       "      <td>0.287363</td>\n",
       "      <td>0.133199</td>\n",
       "      <td>-0.012256</td>\n",
       "      <td>3.316484</td>\n",
       "      <td>-0.791689</td>\n",
       "      <td>-0.210745</td>\n",
       "      <td>0.005891</td>\n",
       "      <td>...</td>\n",
       "      <td>-0.296715</td>\n",
       "      <td>0.066841</td>\n",
       "      <td>-0.047263</td>\n",
       "      <td>-0.004232</td>\n",
       "      <td>-0.001874</td>\n",
       "      <td>-0.216494</td>\n",
       "      <td>-0.038755</td>\n",
       "      <td>-0.069897</td>\n",
       "      <td>61</td>\n",
       "      <td>-0.198817</td>\n",
       "    </tr>\n",
       "    <tr>\n",
       "      <th>62</th>\n",
       "      <td>000001</td>\n",
       "      <td>2006-02</td>\n",
       "      <td>0.426388</td>\n",
       "      <td>0.287363</td>\n",
       "      <td>0.412670</td>\n",
       "      <td>0.005350</td>\n",
       "      <td>3.316484</td>\n",
       "      <td>-0.791689</td>\n",
       "      <td>-0.211828</td>\n",
       "      <td>0.005891</td>\n",
       "      <td>...</td>\n",
       "      <td>-0.296715</td>\n",
       "      <td>0.066841</td>\n",
       "      <td>-0.047263</td>\n",
       "      <td>-0.004232</td>\n",
       "      <td>-0.001874</td>\n",
       "      <td>-0.216494</td>\n",
       "      <td>-0.038755</td>\n",
       "      <td>-0.069897</td>\n",
       "      <td>62</td>\n",
       "      <td>-0.510792</td>\n",
       "    </tr>\n",
       "  </tbody>\n",
       "</table>\n",
       "<p>5 rows × 36 columns</p>\n",
       "</div>"
      ]
     },
     "execution_count": 14,
     "metadata": {},
     "output_type": "execute_result"
    }
   ],
   "execution_count": 14
  },
  {
   "metadata": {},
   "cell_type": "markdown",
   "source": "",
   "id": "a050d52c5affa737"
  },
  {
   "metadata": {},
   "cell_type": "markdown",
   "source": [
    "In the first step, we run the cross-sectional regression:\n",
    "$$EXRET_{i,t+1}=\\beta_{0,t}+\\beta_{1,t}SIZE_{t}+\\beta_{2,t}SIZE_{t}*JAN_{t+1}+\\beta_{3,t}BM_{t}+\\beta_{4,t}BM_{t}*JAN_{t+1}+\\beta_{5,t}ROE_{t}+\\beta_{6,t}ROE_{t}*JAN_{t+1}+\\beta_{7,t}INV_{t}+\\\\ \\beta_{8,t}INV_{t}*JAN_{t+1}+\\beta_{9,t}MOM_{t}+\\beta_{10,t}MOM_{t}*JAN_{t+1}+\\beta_{11,t}REV_{t}+\\beta_{12,t}REV_{t}*JAN_{t+1}+\\beta_{13,t}MRKRP_{t}+\\beta_{14,t}MKTRP_{t}*JAN_{t+1}+\\beta_{15,t}new\\_factor_{t}+e_{i,t+1}$$\n",
    "\n",
    "Then we can get the time-series average of the coefficients:\n",
    "$$\\bar{\\beta_i}=\\frac{1}{T}\\sum_{t=1}^{T}\\beta_{i,t}$$\n",
    "\n",
    "Also, we can get  Standard errors, t-statistics, and p-values calculated using the Newey and West (1987) adjustment with six lags."
   ],
   "id": "aeb8f4aaaac73790"
  },
  {
   "metadata": {
    "ExecuteTime": {
     "end_time": "2024-06-15T13:52:36.829752Z",
     "start_time": "2024-06-15T13:52:36.826349Z"
    }
   },
   "cell_type": "code",
   "source": "test_data.dtypes",
   "id": "53f0528c83fd43b2",
   "outputs": [
    {
     "data": {
      "text/plain": [
       "Stkcd                           object\n",
       "month                        period[M]\n",
       "monthly_stock_return           float64\n",
       "rf                             float64\n",
       "excess_return                  float64\n",
       "market_value                   float64\n",
       "total_assets                   float64\n",
       "total_shareholders_equity      float64\n",
       "BM ratio                       float64\n",
       "ROE                            float64\n",
       "assets_increasing_rate         float64\n",
       "momentum                       float64\n",
       "reversal                       float64\n",
       "size_tag                       float64\n",
       "ROE_tag                        float64\n",
       "bm_tag                         float64\n",
       "INV_tag                        float64\n",
       "momentum_tag                   float64\n",
       "reversal_tag                   float64\n",
       "mkt_risk_premium               float64\n",
       "SMB                            float64\n",
       "HML                            float64\n",
       "RMW                            float64\n",
       "CMA                            float64\n",
       "t+1_excess_return              float64\n",
       "JAN                            float64\n",
       "JAN t+1                        float64\n",
       "size*JAN                       float64\n",
       "BM*JAN                         float64\n",
       "ROE*JAN                        float64\n",
       "INV*JAN                        float64\n",
       "MOM*JAN                        float64\n",
       "REV*JAN                        float64\n",
       "mkt_risk_premium*JAN           float64\n",
       "index                            int64\n",
       "new_factor                     float64\n",
       "dtype: object"
      ]
     },
     "execution_count": 15,
     "metadata": {},
     "output_type": "execute_result"
    }
   ],
   "execution_count": 15
  },
  {
   "metadata": {
    "ExecuteTime": {
     "end_time": "2024-06-15T13:52:37.236797Z",
     "start_time": "2024-06-15T13:52:36.830769Z"
    }
   },
   "cell_type": "code",
   "source": "test_data[feature_list] = (test_data[feature_list] + normalized_mean) * normalized_std",
   "id": "98ed3e72ab44b576",
   "outputs": [],
   "execution_count": 16
  },
  {
   "metadata": {
    "ExecuteTime": {
     "end_time": "2024-06-15T13:52:37.239285Z",
     "start_time": "2024-06-15T13:52:37.237502Z"
    }
   },
   "cell_type": "code",
   "source": "factors_list = ['month','t+1_excess_return', 'SMB', 'HML', 'RMW', 'CMA', 'momentum', 'reversal', 'mkt_risk_premium', 'size*JAN', 'BM*JAN', 'ROE*JAN', 'INV*JAN', 'MOM*JAN', 'REV*JAN', 'mkt_risk_premium*JAN', 'new_factor']",
   "id": "f0c2dad9f114e8fa",
   "outputs": [],
   "execution_count": 17
  },
  {
   "metadata": {
    "ExecuteTime": {
     "end_time": "2024-06-15T13:52:37.789025Z",
     "start_time": "2024-06-15T13:52:37.240135Z"
    }
   },
   "cell_type": "code",
   "source": [
    "my_fm = fama_macbeth.fama_macbeth(test_data.loc[:,factors_list].dropna(), 'month', 't+1_excess_return', factors_list[2:])\n",
    "result_my_fm = fama_macbeth.fm_summary(my_fm, pvalues=True)\n",
    "result_my_fm"
   ],
   "id": "77df8a3458cefcf0",
   "outputs": [
    {
     "data": {
      "text/plain": [
       "                          mean  std_error     tstat          pval\n",
       "intercept             0.005049   0.007760  0.650580  5.159270e-01\n",
       "SMB                  -0.000411   0.000552 -0.745538  4.566614e-01\n",
       "HML                  -0.000031   0.000338 -0.091595  9.270945e-01\n",
       "RMW                   0.000010   0.000322  0.031854  9.746145e-01\n",
       "CMA                   0.000111   0.000220  0.505536  6.136372e-01\n",
       "momentum              0.002433   0.001130  2.153570  3.224998e-02\n",
       "reversal              0.001814   0.000995  1.822423  6.960973e-02\n",
       "mkt_risk_premium      0.002276   0.000915  2.486140  1.358111e-02\n",
       "size*JAN             -0.039604   0.051900 -0.763083  4.461482e-01\n",
       "BM*JAN                0.031520   0.057561  0.547590  5.844717e-01\n",
       "ROE*JAN              -0.040050   0.204139 -0.196189  8.446246e-01\n",
       "INV*JAN               0.830800   0.938299  0.885432  3.767919e-01\n",
       "MOM*JAN               0.124346   0.094041  1.322249  1.873184e-01\n",
       "REV*JAN              -0.029587   0.054677 -0.541118  5.889181e-01\n",
       "mkt_risk_premium*JAN  0.051294   0.056455  0.908590  3.644594e-01\n",
       "new_factor           -0.043510   0.005022 -8.664221  6.263149e-16"
      ],
      "text/html": [
       "<div>\n",
       "<style scoped>\n",
       "    .dataframe tbody tr th:only-of-type {\n",
       "        vertical-align: middle;\n",
       "    }\n",
       "\n",
       "    .dataframe tbody tr th {\n",
       "        vertical-align: top;\n",
       "    }\n",
       "\n",
       "    .dataframe thead th {\n",
       "        text-align: right;\n",
       "    }\n",
       "</style>\n",
       "<table border=\"1\" class=\"dataframe\">\n",
       "  <thead>\n",
       "    <tr style=\"text-align: right;\">\n",
       "      <th></th>\n",
       "      <th>mean</th>\n",
       "      <th>std_error</th>\n",
       "      <th>tstat</th>\n",
       "      <th>pval</th>\n",
       "    </tr>\n",
       "  </thead>\n",
       "  <tbody>\n",
       "    <tr>\n",
       "      <th>intercept</th>\n",
       "      <td>0.005049</td>\n",
       "      <td>0.007760</td>\n",
       "      <td>0.650580</td>\n",
       "      <td>5.159270e-01</td>\n",
       "    </tr>\n",
       "    <tr>\n",
       "      <th>SMB</th>\n",
       "      <td>-0.000411</td>\n",
       "      <td>0.000552</td>\n",
       "      <td>-0.745538</td>\n",
       "      <td>4.566614e-01</td>\n",
       "    </tr>\n",
       "    <tr>\n",
       "      <th>HML</th>\n",
       "      <td>-0.000031</td>\n",
       "      <td>0.000338</td>\n",
       "      <td>-0.091595</td>\n",
       "      <td>9.270945e-01</td>\n",
       "    </tr>\n",
       "    <tr>\n",
       "      <th>RMW</th>\n",
       "      <td>0.000010</td>\n",
       "      <td>0.000322</td>\n",
       "      <td>0.031854</td>\n",
       "      <td>9.746145e-01</td>\n",
       "    </tr>\n",
       "    <tr>\n",
       "      <th>CMA</th>\n",
       "      <td>0.000111</td>\n",
       "      <td>0.000220</td>\n",
       "      <td>0.505536</td>\n",
       "      <td>6.136372e-01</td>\n",
       "    </tr>\n",
       "    <tr>\n",
       "      <th>momentum</th>\n",
       "      <td>0.002433</td>\n",
       "      <td>0.001130</td>\n",
       "      <td>2.153570</td>\n",
       "      <td>3.224998e-02</td>\n",
       "    </tr>\n",
       "    <tr>\n",
       "      <th>reversal</th>\n",
       "      <td>0.001814</td>\n",
       "      <td>0.000995</td>\n",
       "      <td>1.822423</td>\n",
       "      <td>6.960973e-02</td>\n",
       "    </tr>\n",
       "    <tr>\n",
       "      <th>mkt_risk_premium</th>\n",
       "      <td>0.002276</td>\n",
       "      <td>0.000915</td>\n",
       "      <td>2.486140</td>\n",
       "      <td>1.358111e-02</td>\n",
       "    </tr>\n",
       "    <tr>\n",
       "      <th>size*JAN</th>\n",
       "      <td>-0.039604</td>\n",
       "      <td>0.051900</td>\n",
       "      <td>-0.763083</td>\n",
       "      <td>4.461482e-01</td>\n",
       "    </tr>\n",
       "    <tr>\n",
       "      <th>BM*JAN</th>\n",
       "      <td>0.031520</td>\n",
       "      <td>0.057561</td>\n",
       "      <td>0.547590</td>\n",
       "      <td>5.844717e-01</td>\n",
       "    </tr>\n",
       "    <tr>\n",
       "      <th>ROE*JAN</th>\n",
       "      <td>-0.040050</td>\n",
       "      <td>0.204139</td>\n",
       "      <td>-0.196189</td>\n",
       "      <td>8.446246e-01</td>\n",
       "    </tr>\n",
       "    <tr>\n",
       "      <th>INV*JAN</th>\n",
       "      <td>0.830800</td>\n",
       "      <td>0.938299</td>\n",
       "      <td>0.885432</td>\n",
       "      <td>3.767919e-01</td>\n",
       "    </tr>\n",
       "    <tr>\n",
       "      <th>MOM*JAN</th>\n",
       "      <td>0.124346</td>\n",
       "      <td>0.094041</td>\n",
       "      <td>1.322249</td>\n",
       "      <td>1.873184e-01</td>\n",
       "    </tr>\n",
       "    <tr>\n",
       "      <th>REV*JAN</th>\n",
       "      <td>-0.029587</td>\n",
       "      <td>0.054677</td>\n",
       "      <td>-0.541118</td>\n",
       "      <td>5.889181e-01</td>\n",
       "    </tr>\n",
       "    <tr>\n",
       "      <th>mkt_risk_premium*JAN</th>\n",
       "      <td>0.051294</td>\n",
       "      <td>0.056455</td>\n",
       "      <td>0.908590</td>\n",
       "      <td>3.644594e-01</td>\n",
       "    </tr>\n",
       "    <tr>\n",
       "      <th>new_factor</th>\n",
       "      <td>-0.043510</td>\n",
       "      <td>0.005022</td>\n",
       "      <td>-8.664221</td>\n",
       "      <td>6.263149e-16</td>\n",
       "    </tr>\n",
       "  </tbody>\n",
       "</table>\n",
       "</div>"
      ]
     },
     "execution_count": 18,
     "metadata": {},
     "output_type": "execute_result"
    }
   ],
   "execution_count": 18
  },
  {
   "metadata": {},
   "cell_type": "markdown",
   "source": "## 2.2 Anomaly detection",
   "id": "b897994532edc3bd"
  },
  {
   "metadata": {
    "ExecuteTime": {
     "end_time": "2024-06-15T13:52:37.792871Z",
     "start_time": "2024-06-15T13:52:37.790383Z"
    }
   },
   "cell_type": "code",
   "source": [
    "# test_data[test_data['new_factor'] == 0]['new_factor'] = -1\n",
    "# test_data[test_data['new_factor'] == -1]['new_factor'] = 0"
   ],
   "id": "a3eeef75db3198d5",
   "outputs": [],
   "execution_count": 19
  },
  {
   "metadata": {
    "ExecuteTime": {
     "end_time": "2024-06-15T13:52:37.978658Z",
     "start_time": "2024-06-15T13:52:37.794199Z"
    }
   },
   "cell_type": "code",
   "source": "long_short = test_data.groupby(['month'], observed=False).apply(lambda x: np.average(x['excess_return'], weights=x['new_factor']))",
   "id": "c84188601508f31e",
   "outputs": [],
   "execution_count": 20
  },
  {
   "metadata": {
    "ExecuteTime": {
     "end_time": "2024-06-15T13:52:37.981287Z",
     "start_time": "2024-06-15T13:52:37.979408Z"
    }
   },
   "cell_type": "code",
   "source": [
    "long_short = long_short.to_frame()\n",
    "long_short.columns = ['new_factor']"
   ],
   "id": "1b5fcb3c16341302",
   "outputs": [],
   "execution_count": 21
  },
  {
   "metadata": {
    "ExecuteTime": {
     "end_time": "2024-06-15T13:52:38.521882Z",
     "start_time": "2024-06-15T13:52:37.982046Z"
    }
   },
   "cell_type": "code",
   "source": [
    "# import and clean the risk-free rate data\n",
    "rf = pd.read_excel('source_data/Risk-Free Rate/TRD_Nrrate.xlsx')  # load the risk-free rate data\n",
    "rf = rf.iloc[2:, :]\n",
    "rf = rf[['Clsdt', 'Nrrdaydt','Nrrdata']]\n",
    "rf.columns = ['date', 'daily_rf','rf']\n",
    "rf['date'] = pd.to_datetime(rf['date'])\n",
    "rf['daily_rf'] = rf['daily_rf'] / 100  # change the unit of the risk-free rate to decimal\n",
    "rf['rf'] = rf['rf'] / 100  # change the unit of the risk-free rate to decimal\n",
    "rf['month'] = rf['date'].dt.to_period('M')\n",
    "rf_monthly = rf.groupby('month').agg({'daily_rf': [lambda x: (1 + x).prod() - 1], 'rf': 'last'})\n",
    "rf_monthly.reset_index(inplace=True)\n",
    "rf_monthly.columns = ['month', 'monthly_rf','rf']"
   ],
   "id": "355052c574a30aa6",
   "outputs": [],
   "execution_count": 22
  },
  {
   "metadata": {
    "ExecuteTime": {
     "end_time": "2024-06-15T13:52:38.975267Z",
     "start_time": "2024-06-15T13:52:38.522617Z"
    }
   },
   "cell_type": "code",
   "source": [
    "# load fama-french five factors data\n",
    "factor_data = pd.read_excel(\n",
    "    'source_data/5-Factor Model Index (Monthly)/STK_MKT_FIVEFACMONTH.xlsx')\n",
    "factor_data = factor_data[\n",
    "    ['MarkettypeID', 'TradingMonth', 'Portfolios', 'RiskPremium2', 'SMB2', 'HML2', 'RMW2', 'CMA2']]\n",
    "factor_data.columns = ['MarkettypeID', 'date', 'portfolios', 'risk_premium', 'smb', 'hml', 'rmw', 'cma']\n",
    "factor_data = factor_data.iloc[2:, :]\n",
    "factor_data = factor_data[factor_data['portfolios'] == 1]\n",
    "factor_data = factor_data[\n",
    "    factor_data['MarkettypeID'] == \"P9706\"]  # P9706: SSE-SZSE A share market (excluding STAR Market, ChiNext)\n",
    "factor_data.reset_index(drop=True, inplace=True)  # reset the index to 0,1,2,...\n",
    "factor_data = factor_data[['date', 'risk_premium', 'smb', 'hml', 'rmw', 'cma']]\n",
    "factor_data.columns = ['month', 'mkt_risk_premium', 'SMB', 'HML', 'RMW', 'CMA']\n",
    "factor_data['month'] = pd.to_datetime(factor_data['month']).dt.to_period('M')"
   ],
   "id": "76ceb8be9c8855ff",
   "outputs": [],
   "execution_count": 23
  },
  {
   "metadata": {
    "ExecuteTime": {
     "end_time": "2024-06-15T13:52:38.982137Z",
     "start_time": "2024-06-15T13:52:38.976201Z"
    }
   },
   "cell_type": "code",
   "source": [
    "long_short['month'] = long_short.index\n",
    "\n",
    "# merge rf and market return to long_short and long_short\n",
    "long_short['rf'] = long_short['month'].map(rf_monthly.set_index('month')['monthly_rf'])\n",
    "long_short['mkt_risk_premium'] = long_short['month'].map(factor_data.set_index('month')['mkt_risk_premium'])\n",
    "long_short['market_return'] = long_short['mkt_risk_premium'] + long_short['rf']\n",
    "long_short['new_factor'] = long_short['new_factor'] + long_short['rf']\n",
    "\n",
    "long_short.head()"
   ],
   "id": "72a96c2d04029c93",
   "outputs": [
    {
     "data": {
      "text/plain": [
       "         new_factor    month        rf mkt_risk_premium market_return\n",
       "month                                                                \n",
       "2003-05    0.068604  2003-05  0.001675         0.040669      0.042344\n",
       "2003-06   -0.062721  2003-06  0.001621        -0.059786     -0.058165\n",
       "2003-07   -0.041765  2003-07  0.001675        -0.011581     -0.009906\n",
       "2003-08   -0.035821  2003-08  0.001675        -0.035328     -0.033653\n",
       "2003-09   -0.066269  2003-09  0.001621        -0.043523     -0.041902"
      ],
      "text/html": [
       "<div>\n",
       "<style scoped>\n",
       "    .dataframe tbody tr th:only-of-type {\n",
       "        vertical-align: middle;\n",
       "    }\n",
       "\n",
       "    .dataframe tbody tr th {\n",
       "        vertical-align: top;\n",
       "    }\n",
       "\n",
       "    .dataframe thead th {\n",
       "        text-align: right;\n",
       "    }\n",
       "</style>\n",
       "<table border=\"1\" class=\"dataframe\">\n",
       "  <thead>\n",
       "    <tr style=\"text-align: right;\">\n",
       "      <th></th>\n",
       "      <th>new_factor</th>\n",
       "      <th>month</th>\n",
       "      <th>rf</th>\n",
       "      <th>mkt_risk_premium</th>\n",
       "      <th>market_return</th>\n",
       "    </tr>\n",
       "    <tr>\n",
       "      <th>month</th>\n",
       "      <th></th>\n",
       "      <th></th>\n",
       "      <th></th>\n",
       "      <th></th>\n",
       "      <th></th>\n",
       "    </tr>\n",
       "  </thead>\n",
       "  <tbody>\n",
       "    <tr>\n",
       "      <th>2003-05</th>\n",
       "      <td>0.068604</td>\n",
       "      <td>2003-05</td>\n",
       "      <td>0.001675</td>\n",
       "      <td>0.040669</td>\n",
       "      <td>0.042344</td>\n",
       "    </tr>\n",
       "    <tr>\n",
       "      <th>2003-06</th>\n",
       "      <td>-0.062721</td>\n",
       "      <td>2003-06</td>\n",
       "      <td>0.001621</td>\n",
       "      <td>-0.059786</td>\n",
       "      <td>-0.058165</td>\n",
       "    </tr>\n",
       "    <tr>\n",
       "      <th>2003-07</th>\n",
       "      <td>-0.041765</td>\n",
       "      <td>2003-07</td>\n",
       "      <td>0.001675</td>\n",
       "      <td>-0.011581</td>\n",
       "      <td>-0.009906</td>\n",
       "    </tr>\n",
       "    <tr>\n",
       "      <th>2003-08</th>\n",
       "      <td>-0.035821</td>\n",
       "      <td>2003-08</td>\n",
       "      <td>0.001675</td>\n",
       "      <td>-0.035328</td>\n",
       "      <td>-0.033653</td>\n",
       "    </tr>\n",
       "    <tr>\n",
       "      <th>2003-09</th>\n",
       "      <td>-0.066269</td>\n",
       "      <td>2003-09</td>\n",
       "      <td>0.001621</td>\n",
       "      <td>-0.043523</td>\n",
       "      <td>-0.041902</td>\n",
       "    </tr>\n",
       "  </tbody>\n",
       "</table>\n",
       "</div>"
      ]
     },
     "execution_count": 24,
     "metadata": {},
     "output_type": "execute_result"
    }
   ],
   "execution_count": 24
  },
  {
   "metadata": {
    "ExecuteTime": {
     "end_time": "2024-06-15T13:52:38.998333Z",
     "start_time": "2024-06-15T13:52:38.982894Z"
    }
   },
   "cell_type": "code",
   "source": "# long_short['new_factor'] = long_short['new_factor'] - long_short['rf']",
   "id": "8f3dbfce7dc87080",
   "outputs": [],
   "execution_count": 25
  },
  {
   "metadata": {
    "ExecuteTime": {
     "end_time": "2024-06-15T13:52:39.006874Z",
     "start_time": "2024-06-15T13:52:38.999047Z"
    }
   },
   "cell_type": "code",
   "source": "long_short['temp'] = long_short['new_factor'].apply(lambda x: x if x >=-.1 else -0.1)",
   "id": "a5c6bc091e8a7f56",
   "outputs": [],
   "execution_count": 26
  },
  {
   "metadata": {
    "ExecuteTime": {
     "end_time": "2024-06-15T13:52:39.324410Z",
     "start_time": "2024-06-15T13:52:39.007598Z"
    }
   },
   "cell_type": "code",
   "source": [
    "# np.prod(long_short['temp'] + 1) - 1\n",
    "long_short['temp'].plot()\n",
    "# (long_short['temp']+1).cumprod().plot()\n",
    "\n",
    "# np.prod(long_short['new_factor'] + 1) - 1\n",
    "# long_short['new_factor'].plot()"
   ],
   "id": "619d630639010da5",
   "outputs": [
    {
     "data": {
      "text/plain": [
       "<Axes: xlabel='month'>"
      ]
     },
     "execution_count": 27,
     "metadata": {},
     "output_type": "execute_result"
    },
    {
     "data": {
      "text/plain": [
       "<Figure size 640x480 with 1 Axes>"
      ],
      "image/png": "[encoded data removed]"
     },
     "metadata": {},
     "output_type": "display_data"
    }
   ],
   "execution_count": 27
  }
 ],
 "metadata": {
  "kernelspec": {
   "display_name": "Python 3",
   "language": "python",
   "name": "python3"
  },
  "language_info": {
   "codemirror_mode": {
    "name": "ipython",
    "version": 2
   },
   "file_extension": ".py",
   "mimetype": "text/x-python",
   "name": "python",
   "nbconvert_exporter": "python",
   "pygments_lexer": "ipython2",
   "version": "2.7.6"
  }
 },
 "nbformat": 4,
 "nbformat_minor": 5
}
