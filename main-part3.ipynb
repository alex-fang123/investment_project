{
 "cells": [
  {
   "metadata": {},
   "cell_type": "markdown",
   "source": "# Find anomaly using transformer",
   "id": "d0da0e62b7b0fe92"
  },
  {
   "metadata": {},
   "cell_type": "markdown",
   "source": "# 1. give tag using model",
   "id": "a74d7710503889bb"
  },
  {
   "metadata": {
    "ExecuteTime": {
     "end_time": "2024-06-18T14:01:21.108053Z",
     "start_time": "2024-06-18T14:01:21.105350Z"
    }
   },
   "cell_type": "code",
   "source": [
    "import torch\n",
    "import torch.nn as nn\n",
    "import torch.optim as optim\n",
    "from torch.utils.data import DataLoader, Dataset\n",
    "import numpy as np\n",
    "import pandas as pd\n",
    "from sklearn.preprocessing import StandardScaler\n",
    "from finance_byu import fama_macbeth\n",
    "import warnings\n",
    "import statsmodels.api as sm"
   ],
   "id": "ccee1abeea4a4d19",
   "outputs": [],
   "execution_count": 232
  },
  {
   "metadata": {
    "ExecuteTime": {
     "end_time": "2024-06-18T14:01:21.128813Z",
     "start_time": "2024-06-18T14:01:21.126164Z"
    }
   },
   "cell_type": "code",
   "source": [
    "input_seq_size = 30\n",
    "output_seq_size = 1\n",
    "\n",
    "# Hyperparameters\n",
    "input_dim = input_seq_size * 31  # 特征数量\n",
    "d_model = 1024\n",
    "nhead = 64\n",
    "num_encoder_layers = 3\n",
    "dim_feedforward = 128\n",
    "dropout = 0.1\n",
    "seq_length = 30\n",
    "batch_size = 32\n",
    "num_epochs = 10\n",
    "learning_rate = 0.001"
   ],
   "id": "c80db448be952167",
   "outputs": [],
   "execution_count": 233
  },
  {
   "metadata": {
    "ExecuteTime": {
     "end_time": "2024-06-18T14:01:21.156540Z",
     "start_time": "2024-06-18T14:01:21.154379Z"
    }
   },
   "cell_type": "code",
   "source": "warnings.filterwarnings('ignore')",
   "id": "83eebfd58b4b0a36",
   "outputs": [],
   "execution_count": 234
  },
  {
   "metadata": {
    "ExecuteTime": {
     "end_time": "2024-06-18T14:01:21.188018Z",
     "start_time": "2024-06-18T14:01:21.185464Z"
    }
   },
   "cell_type": "code",
   "source": [
    "if torch.cuda.is_available():\n",
    "    device = torch.device('cuda')  # 选择第一个可用的GPU\n",
    "else:\n",
    "    device = torch.device('cpu')  # 若GPU不可用，则选择CPU"
   ],
   "id": "b14e1d09d8c50f50",
   "outputs": [],
   "execution_count": 235
  },
  {
   "metadata": {
    "ExecuteTime": {
     "end_time": "2024-06-18T14:01:21.196017Z",
     "start_time": "2024-06-18T14:01:21.189296Z"
    }
   },
   "cell_type": "code",
   "source": [
    "class StockDataset(Dataset):\n",
    "    def __init__(self, features, targets, seq_length=30):\n",
    "        self.features = features\n",
    "        self.targets = targets\n",
    "        self.seq_length = seq_length\n",
    "\n",
    "    def __len__(self):\n",
    "        return len(self.features) - self.seq_length\n",
    "\n",
    "    def __getitem__(self, idx):\n",
    "        x = self.features[idx:idx + self.seq_length]\n",
    "        y = self.targets[idx + self.seq_length]\n",
    "        return x, y\n",
    "\n",
    "\n",
    "class TransformerModel(nn.Module):\n",
    "    def __init__(self, input_dim, d_model, nhead, num_encoder_layers, dim_feedforward, dropout=0.1):\n",
    "        super(TransformerModel, self).__init__()\n",
    "        self.d_model = d_model\n",
    "        self.embedding = nn.Linear(input_dim, d_model)\n",
    "        self.pos_encoder = nn.Parameter(torch.zeros(1, 500, d_model))  # 500 is a max sequence length\n",
    "        encoder_layers = nn.TransformerEncoderLayer(d_model, nhead, dim_feedforward, dropout)\n",
    "        self.transformer_encoder = nn.TransformerEncoder(encoder_layers, num_encoder_layers)\n",
    "        self.decoder = nn.Linear(d_model, 1)\n",
    "\n",
    "    def forward(self, src):\n",
    "        src = self.embedding(src) * np.sqrt(self.d_model)\n",
    "        src += self.pos_encoder[:, :src.size(1), :]\n",
    "        output = self.transformer_encoder(src)\n",
    "        output = self.decoder(output[:, -1, :])\n",
    "        return output"
   ],
   "id": "9d1b50aa0a68ca97",
   "outputs": [],
   "execution_count": 236
  },
  {
   "metadata": {
    "ExecuteTime": {
     "end_time": "2024-06-18T14:01:21.471657Z",
     "start_time": "2024-06-18T14:01:21.214036Z"
    }
   },
   "cell_type": "code",
   "source": [
    "model = TransformerModel(input_dim=input_dim, d_model=d_model, nhead=nhead, num_encoder_layers=num_encoder_layers, dim_feedforward=dim_feedforward)\n",
    "model.load_state_dict(torch.load('models/31_10_epochs.pth'))\n",
    "model.to(device)"
   ],
   "id": "41a7609b4493d820",
   "outputs": [
    {
     "data": {
      "text/plain": [
       "TransformerModel(\n",
       "  (embedding): Linear(in_features=930, out_features=1024, bias=True)\n",
       "  (transformer_encoder): TransformerEncoder(\n",
       "    (layers): ModuleList(\n",
       "      (0-2): 3 x TransformerEncoderLayer(\n",
       "        (self_attn): MultiheadAttention(\n",
       "          (out_proj): NonDynamicallyQuantizableLinear(in_features=1024, out_features=1024, bias=True)\n",
       "        )\n",
       "        (linear1): Linear(in_features=1024, out_features=128, bias=True)\n",
       "        (dropout): Dropout(p=0.1, inplace=False)\n",
       "        (linear2): Linear(in_features=128, out_features=1024, bias=True)\n",
       "        (norm1): LayerNorm((1024,), eps=1e-05, elementwise_affine=True)\n",
       "        (norm2): LayerNorm((1024,), eps=1e-05, elementwise_affine=True)\n",
       "        (dropout1): Dropout(p=0.1, inplace=False)\n",
       "        (dropout2): Dropout(p=0.1, inplace=False)\n",
       "      )\n",
       "    )\n",
       "  )\n",
       "  (decoder): Linear(in_features=1024, out_features=1, bias=True)\n",
       ")"
      ]
     },
     "execution_count": 237,
     "metadata": {},
     "output_type": "execute_result"
    }
   ],
   "execution_count": 237
  },
  {
   "metadata": {
    "ExecuteTime": {
     "end_time": "2024-06-18T14:01:21.975327Z",
     "start_time": "2024-06-18T14:01:21.472771Z"
    }
   },
   "cell_type": "code",
   "source": [
    "data = pd.read_feather('temp/before1.6_monthly_stock_return.feather')\n",
    "data = data.dropna()\n",
    "\n",
    "data['index'] = data.index\n",
    "\n",
    "# change data type\n",
    "data['size_tag'] = data['size_tag'].astype('float64')\n",
    "data['ROE_tag'] = data['ROE_tag'].astype('float64')\n",
    "data['bm_tag'] = data['bm_tag'].astype('float64')\n",
    "data['INV_tag'] = data['INV_tag'].astype('float64')\n",
    "data['momentum_tag'] = data['momentum_tag'].astype('float64')\n",
    "data['reversal_tag'] = data['reversal_tag'].astype('float64')\n",
    "\n",
    "feature_list = ['monthly_stock_return', 'rf', 'excess_return',\n",
    "                'market_value', 'JAN', 'total_assets', 'total_shareholders_equity',\n",
    "                'BM ratio', 'ROE', 'assets_increasing_rate', 'momentum', 'reversal',\n",
    "                'size_tag', 'ROE_tag', 'bm_tag', 'INV_tag', 'momentum_tag',\n",
    "                'reversal_tag', 'mkt_risk_premium', 'SMB', 'HML', 'RMW', 'CMA',\n",
    "                'JAN t+1', 'size*JAN', 'BM*JAN',\n",
    "                'ROE*JAN', 'INV*JAN', 'MOM*JAN', 'REV*JAN',\n",
    "                'mkt_risk_premium*JAN']\n",
    "scaler = StandardScaler()\n",
    "mean_list = []\n",
    "std_list = []\n",
    "data[feature_list] = scaler.fit_transform(data[feature_list])\n",
    "normalized_data = data\n",
    "normalized_mean = scaler.mean_\n",
    "normalized_std = scaler.scale_"
   ],
   "id": "5ec18b2470005890",
   "outputs": [],
   "execution_count": 238
  },
  {
   "metadata": {
    "ExecuteTime": {
     "end_time": "2024-06-18T14:01:21.979061Z",
     "start_time": "2024-06-18T14:01:21.976116Z"
    }
   },
   "cell_type": "code",
   "source": [
    "def get_src(data, num_samples, input_seq_size):\n",
    "    if len(data) - input_seq_size - output_seq_size + 1 <= 0:\n",
    "        return\n",
    "    src_data = np.array([data[i:i + input_seq_size] for i in range(num_samples)])\n",
    "    return src_data\n",
    "\n",
    "\n",
    "def get_tgt(data, num_samples, input_seq_size, output_seq_size):\n",
    "    if len(data) - input_seq_size - output_seq_size + 1 <= 0:\n",
    "        return\n",
    "    tgt_data = np.array([data['monthly_stock_return'][i + input_seq_size:i + input_seq_size + output_seq_size] for i in range(num_samples)])\n",
    "    return tgt_data"
   ],
   "id": "51e8f66f60c7d48a",
   "outputs": [],
   "execution_count": 239
  },
  {
   "metadata": {
    "ExecuteTime": {
     "end_time": "2024-06-18T14:01:21.986787Z",
     "start_time": "2024-06-18T14:01:21.980200Z"
    }
   },
   "cell_type": "code",
   "source": [
    "criterion = nn.MSELoss()\n",
    "optimizer = optim.Adam(model.parameters(), lr=learning_rate)"
   ],
   "id": "ad146bdddf7a00cb",
   "outputs": [],
   "execution_count": 240
  },
  {
   "metadata": {
    "ExecuteTime": {
     "end_time": "2024-06-18T14:02:39.425958Z",
     "start_time": "2024-06-18T14:01:21.987694Z"
    }
   },
   "cell_type": "code",
   "source": [
    "# normalized_data = normalized_data[(normalized_data['Stkcd'] == \"000001\") | (normalized_data['Stkcd'] == \"000002\")]\n",
    "\n",
    "# test_data = normalized_data[normalized_data['month'] >= '2013-03-01']\n",
    "test_data = normalized_data\n",
    "\n",
    "test_data['new_factor'] = 0\n",
    "test_data['new_factor'] = test_data['new_factor'].astype('float64')\n",
    "\n",
    "src_data = test_data.groupby('Stkcd', observed=False).apply(\n",
    "    lambda x: get_src(x[feature_list + ['index',]], len(x) - input_seq_size - output_seq_size + 1, input_seq_size), include_groups=False)\n",
    "src_data.dropna(inplace=True)\n",
    "src_data = np.concatenate(src_data)\n",
    "src_data = src_data.reshape(src_data.shape[0], input_dim + input_seq_size)  # containing 30 index\n",
    "src_data = torch.tensor(src_data).float().to(device)\n",
    "\n",
    "tgt_data = test_data.groupby('Stkcd', observed=False).apply(\n",
    "    lambda x: get_tgt(x[feature_list], len(x) - input_seq_size - output_seq_size + 1, input_seq_size, output_seq_size), include_groups=False)\n",
    "tgt_data.dropna(inplace=True)\n",
    "tgt_data = np.concatenate(tgt_data)\n",
    "# tgt_data = tgt_data.reshape(tgt_data.shape[0], 32)\n",
    "tgt_data = torch.tensor(tgt_data).float().to(device)\n",
    "\n",
    "# Create DataLoader\n",
    "dataset = StockDataset(src_data, tgt_data, seq_length=input_seq_size)\n",
    "dataloader = DataLoader(dataset, batch_size=1, shuffle=True)\n",
    "\n",
    "model.eval()"
   ],
   "id": "37fcf8e9832ef01",
   "outputs": [
    {
     "data": {
      "text/plain": [
       "TransformerModel(\n",
       "  (embedding): Linear(in_features=930, out_features=1024, bias=True)\n",
       "  (transformer_encoder): TransformerEncoder(\n",
       "    (layers): ModuleList(\n",
       "      (0-2): 3 x TransformerEncoderLayer(\n",
       "        (self_attn): MultiheadAttention(\n",
       "          (out_proj): NonDynamicallyQuantizableLinear(in_features=1024, out_features=1024, bias=True)\n",
       "        )\n",
       "        (linear1): Linear(in_features=1024, out_features=128, bias=True)\n",
       "        (dropout): Dropout(p=0.1, inplace=False)\n",
       "        (linear2): Linear(in_features=128, out_features=1024, bias=True)\n",
       "        (norm1): LayerNorm((1024,), eps=1e-05, elementwise_affine=True)\n",
       "        (norm2): LayerNorm((1024,), eps=1e-05, elementwise_affine=True)\n",
       "        (dropout1): Dropout(p=0.1, inplace=False)\n",
       "        (dropout2): Dropout(p=0.1, inplace=False)\n",
       "      )\n",
       "    )\n",
       "  )\n",
       "  (decoder): Linear(in_features=1024, out_features=1, bias=True)\n",
       ")"
      ]
     },
     "execution_count": 241,
     "metadata": {},
     "output_type": "execute_result"
    }
   ],
   "execution_count": 241
  },
  {
   "metadata": {
    "ExecuteTime": {
     "end_time": "2024-06-18T14:02:43.524867Z",
     "start_time": "2024-06-18T14:02:43.369172Z"
    }
   },
   "cell_type": "code",
   "source": [
    "index_list = []\n",
    "with torch.no_grad():\n",
    "    total_loss = 0\n",
    "    for batch in dataloader:\n",
    "        x_batch, y_batch = batch\n",
    "        y_batch = y_batch.float()\n",
    "        index = int(x_batch[0][-1][-1])\n",
    "        index_list.append(index)\n",
    "        tmp = torch.zeros(1, input_seq_size, input_dim)\n",
    "        for i in range(len(x_batch[0])):\n",
    "            tmp[0][i] = torch.cat([x_batch[0][i][i*32:i*32+31] for i in range(input_seq_size)])\n",
    "        tmp = tmp.to(device)\n",
    "\n",
    "        output = model(tmp)\n",
    "        \n",
    "        result = float(output.squeeze())\n",
    "        test_data.loc[index, 'new_factor'] = result\n",
    "        \n",
    "        loss = criterion(output.squeeze(), y_batch)\n",
    "        total_loss += loss.item()\n",
    "        # break\n",
    "    avg_loss = total_loss / len(dataloader)\n",
    "    print(f\"Loss on Test set: {avg_loss:.4f}\")"
   ],
   "id": "e9f9b7097072fe2d",
   "outputs": [
    {
     "ename": "RuntimeError",
     "evalue": "mat1 and mat2 shapes cannot be multiplied (30x31 and 930x1024)",
     "output_type": "error",
     "traceback": [
      "\u001B[0;31m---------------------------------------------------------------------------\u001B[0m",
      "\u001B[0;31mRuntimeError\u001B[0m                              Traceback (most recent call last)",
      "Cell \u001B[0;32mIn[242], line 15\u001B[0m\n\u001B[1;32m      9\u001B[0m tmp \u001B[38;5;241m=\u001B[39m x_batch[:, :, :\u001B[38;5;241m31\u001B[39m]\u001B[38;5;241m.\u001B[39mclone()\u001B[38;5;241m.\u001B[39mto(device)\n\u001B[1;32m     10\u001B[0m \u001B[38;5;66;03m# tmp = torch.zeros(1, input_seq_size, input_dim)\u001B[39;00m\n\u001B[1;32m     11\u001B[0m \u001B[38;5;66;03m# for i in range(len(x_batch[0])):\u001B[39;00m\n\u001B[1;32m     12\u001B[0m \u001B[38;5;66;03m#     tmp[0][i] = torch.cat([x_batch[0][i][i*32:i*32+31] for i in range(input_seq_size)])\u001B[39;00m\n\u001B[1;32m     13\u001B[0m \u001B[38;5;66;03m# tmp = tmp.to(device)\u001B[39;00m\n\u001B[0;32m---> 15\u001B[0m output \u001B[38;5;241m=\u001B[39m \u001B[43mmodel\u001B[49m\u001B[43m(\u001B[49m\u001B[43mtmp\u001B[49m\u001B[43m)\u001B[49m\n\u001B[1;32m     17\u001B[0m result \u001B[38;5;241m=\u001B[39m \u001B[38;5;28mfloat\u001B[39m(output\u001B[38;5;241m.\u001B[39msqueeze())\n\u001B[1;32m     18\u001B[0m test_data\u001B[38;5;241m.\u001B[39mloc[index, \u001B[38;5;124m'\u001B[39m\u001B[38;5;124mnew_factor\u001B[39m\u001B[38;5;124m'\u001B[39m] \u001B[38;5;241m=\u001B[39m result\n",
      "File \u001B[0;32m~/miniconda3/envs/rapids-24.04/lib/python3.11/site-packages/torch/nn/modules/module.py:1532\u001B[0m, in \u001B[0;36mModule._wrapped_call_impl\u001B[0;34m(self, *args, **kwargs)\u001B[0m\n\u001B[1;32m   1530\u001B[0m     \u001B[38;5;28;01mreturn\u001B[39;00m \u001B[38;5;28mself\u001B[39m\u001B[38;5;241m.\u001B[39m_compiled_call_impl(\u001B[38;5;241m*\u001B[39margs, \u001B[38;5;241m*\u001B[39m\u001B[38;5;241m*\u001B[39mkwargs)  \u001B[38;5;66;03m# type: ignore[misc]\u001B[39;00m\n\u001B[1;32m   1531\u001B[0m \u001B[38;5;28;01melse\u001B[39;00m:\n\u001B[0;32m-> 1532\u001B[0m     \u001B[38;5;28;01mreturn\u001B[39;00m \u001B[38;5;28;43mself\u001B[39;49m\u001B[38;5;241;43m.\u001B[39;49m\u001B[43m_call_impl\u001B[49m\u001B[43m(\u001B[49m\u001B[38;5;241;43m*\u001B[39;49m\u001B[43margs\u001B[49m\u001B[43m,\u001B[49m\u001B[43m \u001B[49m\u001B[38;5;241;43m*\u001B[39;49m\u001B[38;5;241;43m*\u001B[39;49m\u001B[43mkwargs\u001B[49m\u001B[43m)\u001B[49m\n",
      "File \u001B[0;32m~/miniconda3/envs/rapids-24.04/lib/python3.11/site-packages/torch/nn/modules/module.py:1541\u001B[0m, in \u001B[0;36mModule._call_impl\u001B[0;34m(self, *args, **kwargs)\u001B[0m\n\u001B[1;32m   1536\u001B[0m \u001B[38;5;66;03m# If we don't have any hooks, we want to skip the rest of the logic in\u001B[39;00m\n\u001B[1;32m   1537\u001B[0m \u001B[38;5;66;03m# this function, and just call forward.\u001B[39;00m\n\u001B[1;32m   1538\u001B[0m \u001B[38;5;28;01mif\u001B[39;00m \u001B[38;5;129;01mnot\u001B[39;00m (\u001B[38;5;28mself\u001B[39m\u001B[38;5;241m.\u001B[39m_backward_hooks \u001B[38;5;129;01mor\u001B[39;00m \u001B[38;5;28mself\u001B[39m\u001B[38;5;241m.\u001B[39m_backward_pre_hooks \u001B[38;5;129;01mor\u001B[39;00m \u001B[38;5;28mself\u001B[39m\u001B[38;5;241m.\u001B[39m_forward_hooks \u001B[38;5;129;01mor\u001B[39;00m \u001B[38;5;28mself\u001B[39m\u001B[38;5;241m.\u001B[39m_forward_pre_hooks\n\u001B[1;32m   1539\u001B[0m         \u001B[38;5;129;01mor\u001B[39;00m _global_backward_pre_hooks \u001B[38;5;129;01mor\u001B[39;00m _global_backward_hooks\n\u001B[1;32m   1540\u001B[0m         \u001B[38;5;129;01mor\u001B[39;00m _global_forward_hooks \u001B[38;5;129;01mor\u001B[39;00m _global_forward_pre_hooks):\n\u001B[0;32m-> 1541\u001B[0m     \u001B[38;5;28;01mreturn\u001B[39;00m \u001B[43mforward_call\u001B[49m\u001B[43m(\u001B[49m\u001B[38;5;241;43m*\u001B[39;49m\u001B[43margs\u001B[49m\u001B[43m,\u001B[49m\u001B[43m \u001B[49m\u001B[38;5;241;43m*\u001B[39;49m\u001B[38;5;241;43m*\u001B[39;49m\u001B[43mkwargs\u001B[49m\u001B[43m)\u001B[49m\n\u001B[1;32m   1543\u001B[0m \u001B[38;5;28;01mtry\u001B[39;00m:\n\u001B[1;32m   1544\u001B[0m     result \u001B[38;5;241m=\u001B[39m \u001B[38;5;28;01mNone\u001B[39;00m\n",
      "Cell \u001B[0;32mIn[236], line 27\u001B[0m, in \u001B[0;36mTransformerModel.forward\u001B[0;34m(self, src)\u001B[0m\n\u001B[1;32m     26\u001B[0m \u001B[38;5;28;01mdef\u001B[39;00m \u001B[38;5;21mforward\u001B[39m(\u001B[38;5;28mself\u001B[39m, src):\n\u001B[0;32m---> 27\u001B[0m     src \u001B[38;5;241m=\u001B[39m \u001B[38;5;28;43mself\u001B[39;49m\u001B[38;5;241;43m.\u001B[39;49m\u001B[43membedding\u001B[49m\u001B[43m(\u001B[49m\u001B[43msrc\u001B[49m\u001B[43m)\u001B[49m \u001B[38;5;241m*\u001B[39m np\u001B[38;5;241m.\u001B[39msqrt(\u001B[38;5;28mself\u001B[39m\u001B[38;5;241m.\u001B[39md_model)\n\u001B[1;32m     28\u001B[0m     src \u001B[38;5;241m+\u001B[39m\u001B[38;5;241m=\u001B[39m \u001B[38;5;28mself\u001B[39m\u001B[38;5;241m.\u001B[39mpos_encoder[:, :src\u001B[38;5;241m.\u001B[39msize(\u001B[38;5;241m1\u001B[39m), :]\n\u001B[1;32m     29\u001B[0m     output \u001B[38;5;241m=\u001B[39m \u001B[38;5;28mself\u001B[39m\u001B[38;5;241m.\u001B[39mtransformer_encoder(src)\n",
      "File \u001B[0;32m~/miniconda3/envs/rapids-24.04/lib/python3.11/site-packages/torch/nn/modules/module.py:1532\u001B[0m, in \u001B[0;36mModule._wrapped_call_impl\u001B[0;34m(self, *args, **kwargs)\u001B[0m\n\u001B[1;32m   1530\u001B[0m     \u001B[38;5;28;01mreturn\u001B[39;00m \u001B[38;5;28mself\u001B[39m\u001B[38;5;241m.\u001B[39m_compiled_call_impl(\u001B[38;5;241m*\u001B[39margs, \u001B[38;5;241m*\u001B[39m\u001B[38;5;241m*\u001B[39mkwargs)  \u001B[38;5;66;03m# type: ignore[misc]\u001B[39;00m\n\u001B[1;32m   1531\u001B[0m \u001B[38;5;28;01melse\u001B[39;00m:\n\u001B[0;32m-> 1532\u001B[0m     \u001B[38;5;28;01mreturn\u001B[39;00m \u001B[38;5;28;43mself\u001B[39;49m\u001B[38;5;241;43m.\u001B[39;49m\u001B[43m_call_impl\u001B[49m\u001B[43m(\u001B[49m\u001B[38;5;241;43m*\u001B[39;49m\u001B[43margs\u001B[49m\u001B[43m,\u001B[49m\u001B[43m \u001B[49m\u001B[38;5;241;43m*\u001B[39;49m\u001B[38;5;241;43m*\u001B[39;49m\u001B[43mkwargs\u001B[49m\u001B[43m)\u001B[49m\n",
      "File \u001B[0;32m~/miniconda3/envs/rapids-24.04/lib/python3.11/site-packages/torch/nn/modules/module.py:1541\u001B[0m, in \u001B[0;36mModule._call_impl\u001B[0;34m(self, *args, **kwargs)\u001B[0m\n\u001B[1;32m   1536\u001B[0m \u001B[38;5;66;03m# If we don't have any hooks, we want to skip the rest of the logic in\u001B[39;00m\n\u001B[1;32m   1537\u001B[0m \u001B[38;5;66;03m# this function, and just call forward.\u001B[39;00m\n\u001B[1;32m   1538\u001B[0m \u001B[38;5;28;01mif\u001B[39;00m \u001B[38;5;129;01mnot\u001B[39;00m (\u001B[38;5;28mself\u001B[39m\u001B[38;5;241m.\u001B[39m_backward_hooks \u001B[38;5;129;01mor\u001B[39;00m \u001B[38;5;28mself\u001B[39m\u001B[38;5;241m.\u001B[39m_backward_pre_hooks \u001B[38;5;129;01mor\u001B[39;00m \u001B[38;5;28mself\u001B[39m\u001B[38;5;241m.\u001B[39m_forward_hooks \u001B[38;5;129;01mor\u001B[39;00m \u001B[38;5;28mself\u001B[39m\u001B[38;5;241m.\u001B[39m_forward_pre_hooks\n\u001B[1;32m   1539\u001B[0m         \u001B[38;5;129;01mor\u001B[39;00m _global_backward_pre_hooks \u001B[38;5;129;01mor\u001B[39;00m _global_backward_hooks\n\u001B[1;32m   1540\u001B[0m         \u001B[38;5;129;01mor\u001B[39;00m _global_forward_hooks \u001B[38;5;129;01mor\u001B[39;00m _global_forward_pre_hooks):\n\u001B[0;32m-> 1541\u001B[0m     \u001B[38;5;28;01mreturn\u001B[39;00m \u001B[43mforward_call\u001B[49m\u001B[43m(\u001B[49m\u001B[38;5;241;43m*\u001B[39;49m\u001B[43margs\u001B[49m\u001B[43m,\u001B[49m\u001B[43m \u001B[49m\u001B[38;5;241;43m*\u001B[39;49m\u001B[38;5;241;43m*\u001B[39;49m\u001B[43mkwargs\u001B[49m\u001B[43m)\u001B[49m\n\u001B[1;32m   1543\u001B[0m \u001B[38;5;28;01mtry\u001B[39;00m:\n\u001B[1;32m   1544\u001B[0m     result \u001B[38;5;241m=\u001B[39m \u001B[38;5;28;01mNone\u001B[39;00m\n",
      "File \u001B[0;32m~/miniconda3/envs/rapids-24.04/lib/python3.11/site-packages/torch/nn/modules/linear.py:116\u001B[0m, in \u001B[0;36mLinear.forward\u001B[0;34m(self, input)\u001B[0m\n\u001B[1;32m    115\u001B[0m \u001B[38;5;28;01mdef\u001B[39;00m \u001B[38;5;21mforward\u001B[39m(\u001B[38;5;28mself\u001B[39m, \u001B[38;5;28minput\u001B[39m: Tensor) \u001B[38;5;241m-\u001B[39m\u001B[38;5;241m>\u001B[39m Tensor:\n\u001B[0;32m--> 116\u001B[0m     \u001B[38;5;28;01mreturn\u001B[39;00m \u001B[43mF\u001B[49m\u001B[38;5;241;43m.\u001B[39;49m\u001B[43mlinear\u001B[49m\u001B[43m(\u001B[49m\u001B[38;5;28;43minput\u001B[39;49m\u001B[43m,\u001B[49m\u001B[43m \u001B[49m\u001B[38;5;28;43mself\u001B[39;49m\u001B[38;5;241;43m.\u001B[39;49m\u001B[43mweight\u001B[49m\u001B[43m,\u001B[49m\u001B[43m \u001B[49m\u001B[38;5;28;43mself\u001B[39;49m\u001B[38;5;241;43m.\u001B[39;49m\u001B[43mbias\u001B[49m\u001B[43m)\u001B[49m\n",
      "\u001B[0;31mRuntimeError\u001B[0m: mat1 and mat2 shapes cannot be multiplied (30x31 and 930x1024)"
     ]
    }
   ],
   "execution_count": 242
  },
  {
   "metadata": {
    "ExecuteTime": {
     "end_time": "2024-06-18T13:52:58.703188Z",
     "start_time": "2024-06-18T13:52:58.700310Z"
    }
   },
   "cell_type": "code",
   "source": "x_batch.shape",
   "id": "31a4e722a259a4cb",
   "outputs": [
    {
     "data": {
      "text/plain": [
       "torch.Size([1, 30, 960])"
      ]
     },
     "execution_count": 198,
     "metadata": {},
     "output_type": "execute_result"
    }
   ],
   "execution_count": 198
  },
  {
   "metadata": {
    "ExecuteTime": {
     "end_time": "2024-06-18T13:53:00.986697Z",
     "start_time": "2024-06-18T13:53:00.979046Z"
    }
   },
   "cell_type": "code",
   "source": [
    "# result, index\n",
    "min(index_list)"
   ],
   "id": "aa2477b2b9f02ec",
   "outputs": [
    {
     "data": {
      "text/plain": [
       "58"
      ]
     },
     "execution_count": 199,
     "metadata": {},
     "output_type": "execute_result"
    }
   ],
   "execution_count": 199
  },
  {
   "metadata": {
    "ExecuteTime": {
     "end_time": "2024-06-18T13:53:01.875132Z",
     "start_time": "2024-06-18T13:53:01.763903Z"
    }
   },
   "cell_type": "code",
   "source": [
    "test_data = test_data[test_data['index'].isin(index_list)]\n",
    "test_data[['Stkcd', 'month', 'new_factor', 'monthly_stock_return', 'index']]"
   ],
   "id": "cb724bc70ef1c3f1",
   "outputs": [
    {
     "data": {
      "text/plain": [
       "         Stkcd    month  new_factor  monthly_stock_return   index\n",
       "58      000001  2005-08         NaN              0.253003      58\n",
       "59      000001  2005-09         NaN             -0.569475      59\n",
       "60      000001  2005-10    0.072232             -0.133800      60\n",
       "61      000001  2005-11   -0.298292              0.071430      61\n",
       "62      000001  2005-12    0.134010              0.258093      62\n",
       "...        ...      ...         ...                   ...     ...\n",
       "664576  900957  2023-05    0.250149             -0.276047  664576\n",
       "664577  900957  2023-06    0.064995             -0.295116  664577\n",
       "664578  900957  2023-07   -0.562463              0.188147  664578\n",
       "664579  900957  2023-08    0.037867             -1.122319  664579\n",
       "664580  900957  2023-09    0.021273             -0.517300  664580\n",
       "\n",
       "[519535 rows x 5 columns]"
      ],
      "text/html": [
       "<div>\n",
       "<style scoped>\n",
       "    .dataframe tbody tr th:only-of-type {\n",
       "        vertical-align: middle;\n",
       "    }\n",
       "\n",
       "    .dataframe tbody tr th {\n",
       "        vertical-align: top;\n",
       "    }\n",
       "\n",
       "    .dataframe thead th {\n",
       "        text-align: right;\n",
       "    }\n",
       "</style>\n",
       "<table border=\"1\" class=\"dataframe\">\n",
       "  <thead>\n",
       "    <tr style=\"text-align: right;\">\n",
       "      <th></th>\n",
       "      <th>Stkcd</th>\n",
       "      <th>month</th>\n",
       "      <th>new_factor</th>\n",
       "      <th>monthly_stock_return</th>\n",
       "      <th>index</th>\n",
       "    </tr>\n",
       "  </thead>\n",
       "  <tbody>\n",
       "    <tr>\n",
       "      <th>58</th>\n",
       "      <td>000001</td>\n",
       "      <td>2005-08</td>\n",
       "      <td>NaN</td>\n",
       "      <td>0.253003</td>\n",
       "      <td>58</td>\n",
       "    </tr>\n",
       "    <tr>\n",
       "      <th>59</th>\n",
       "      <td>000001</td>\n",
       "      <td>2005-09</td>\n",
       "      <td>NaN</td>\n",
       "      <td>-0.569475</td>\n",
       "      <td>59</td>\n",
       "    </tr>\n",
       "    <tr>\n",
       "      <th>60</th>\n",
       "      <td>000001</td>\n",
       "      <td>2005-10</td>\n",
       "      <td>0.072232</td>\n",
       "      <td>-0.133800</td>\n",
       "      <td>60</td>\n",
       "    </tr>\n",
       "    <tr>\n",
       "      <th>61</th>\n",
       "      <td>000001</td>\n",
       "      <td>2005-11</td>\n",
       "      <td>-0.298292</td>\n",
       "      <td>0.071430</td>\n",
       "      <td>61</td>\n",
       "    </tr>\n",
       "    <tr>\n",
       "      <th>62</th>\n",
       "      <td>000001</td>\n",
       "      <td>2005-12</td>\n",
       "      <td>0.134010</td>\n",
       "      <td>0.258093</td>\n",
       "      <td>62</td>\n",
       "    </tr>\n",
       "    <tr>\n",
       "      <th>...</th>\n",
       "      <td>...</td>\n",
       "      <td>...</td>\n",
       "      <td>...</td>\n",
       "      <td>...</td>\n",
       "      <td>...</td>\n",
       "    </tr>\n",
       "    <tr>\n",
       "      <th>664576</th>\n",
       "      <td>900957</td>\n",
       "      <td>2023-05</td>\n",
       "      <td>0.250149</td>\n",
       "      <td>-0.276047</td>\n",
       "      <td>664576</td>\n",
       "    </tr>\n",
       "    <tr>\n",
       "      <th>664577</th>\n",
       "      <td>900957</td>\n",
       "      <td>2023-06</td>\n",
       "      <td>0.064995</td>\n",
       "      <td>-0.295116</td>\n",
       "      <td>664577</td>\n",
       "    </tr>\n",
       "    <tr>\n",
       "      <th>664578</th>\n",
       "      <td>900957</td>\n",
       "      <td>2023-07</td>\n",
       "      <td>-0.562463</td>\n",
       "      <td>0.188147</td>\n",
       "      <td>664578</td>\n",
       "    </tr>\n",
       "    <tr>\n",
       "      <th>664579</th>\n",
       "      <td>900957</td>\n",
       "      <td>2023-08</td>\n",
       "      <td>0.037867</td>\n",
       "      <td>-1.122319</td>\n",
       "      <td>664579</td>\n",
       "    </tr>\n",
       "    <tr>\n",
       "      <th>664580</th>\n",
       "      <td>900957</td>\n",
       "      <td>2023-09</td>\n",
       "      <td>0.021273</td>\n",
       "      <td>-0.517300</td>\n",
       "      <td>664580</td>\n",
       "    </tr>\n",
       "  </tbody>\n",
       "</table>\n",
       "<p>519535 rows × 5 columns</p>\n",
       "</div>"
      ]
     },
     "execution_count": 200,
     "metadata": {},
     "output_type": "execute_result"
    }
   ],
   "execution_count": 200
  },
  {
   "metadata": {},
   "cell_type": "markdown",
   "source": "# 2. Famamacbeth and backtesting",
   "id": "427732e686543b8d"
  },
  {
   "metadata": {},
   "cell_type": "markdown",
   "source": "## 2.1 Fama-MacBeth regression",
   "id": "1ad4ba5934731e56"
  },
  {
   "metadata": {
    "ExecuteTime": {
     "end_time": "2024-06-18T13:53:21.563299Z",
     "start_time": "2024-06-18T13:53:21.552805Z"
    }
   },
   "cell_type": "code",
   "source": "test_data.head()",
   "id": "7d817fe5822a0477",
   "outputs": [
    {
     "data": {
      "text/plain": [
       "     Stkcd    month  monthly_stock_return        rf  excess_return  \\\n",
       "58  000001  2005-08              0.253003  0.340985       0.251701   \n",
       "59  000001  2005-09             -0.569475  0.236678      -0.570386   \n",
       "60  000001  2005-10             -0.133800  0.340985      -0.135105   \n",
       "61  000001  2005-11              0.071430  0.236678       0.070525   \n",
       "62  000001  2005-12              0.258093  0.340985       0.256792   \n",
       "\n",
       "    market_value  total_assets  total_shareholders_equity  BM ratio       ROE  \\\n",
       "58     -0.015849      3.080962                  -0.807932 -0.210898  0.002343   \n",
       "59     -0.032761      3.250031                  -0.791173 -0.209282  0.008043   \n",
       "60     -0.034560      3.250031                  -0.791173 -0.209137  0.008043   \n",
       "61     -0.029882      3.250031                  -0.791173 -0.209507  0.008043   \n",
       "62     -0.019087      3.396977                  -0.787342 -0.210215  0.007425   \n",
       "\n",
       "    ...  mkt_risk_premium*JAN  size*JAN_loading  BM*JAN_loading  \\\n",
       "58  ...             -0.069924          0.017516        0.021900   \n",
       "59  ...             -0.069924          0.019735        0.021927   \n",
       "60  ...             -0.069924          0.022077        0.024350   \n",
       "61  ...             -0.069924          0.021591        0.018005   \n",
       "62  ...              2.873076          0.101894        0.015295   \n",
       "\n",
       "    ROE*JAN_loading  INV*JAN_loading  MOM*JAN_loading  REV*JAN_loading  \\\n",
       "58         0.092573        -0.065935         0.038087        -0.002158   \n",
       "59         0.098366        -0.078334         0.043878        -0.000176   \n",
       "60         0.108572        -0.095118         0.053215        -0.001025   \n",
       "61         0.113459        -0.094968         0.053191        -0.000355   \n",
       "62         0.119281        -0.137167         0.027985         0.001873   \n",
       "\n",
       "    mkt_risk_premium*JAN_loading  index  new_factor  \n",
       "58                      0.068011     58         NaN  \n",
       "59                      0.067519     59         NaN  \n",
       "60                      0.066188     60    0.072232  \n",
       "61                      0.065696     61   -0.298292  \n",
       "62                      0.095037     62    0.134010  \n",
       "\n",
       "[5 rows x 50 columns]"
      ],
      "text/html": [
       "<div>\n",
       "<style scoped>\n",
       "    .dataframe tbody tr th:only-of-type {\n",
       "        vertical-align: middle;\n",
       "    }\n",
       "\n",
       "    .dataframe tbody tr th {\n",
       "        vertical-align: top;\n",
       "    }\n",
       "\n",
       "    .dataframe thead th {\n",
       "        text-align: right;\n",
       "    }\n",
       "</style>\n",
       "<table border=\"1\" class=\"dataframe\">\n",
       "  <thead>\n",
       "    <tr style=\"text-align: right;\">\n",
       "      <th></th>\n",
       "      <th>Stkcd</th>\n",
       "      <th>month</th>\n",
       "      <th>monthly_stock_return</th>\n",
       "      <th>rf</th>\n",
       "      <th>excess_return</th>\n",
       "      <th>market_value</th>\n",
       "      <th>total_assets</th>\n",
       "      <th>total_shareholders_equity</th>\n",
       "      <th>BM ratio</th>\n",
       "      <th>ROE</th>\n",
       "      <th>...</th>\n",
       "      <th>mkt_risk_premium*JAN</th>\n",
       "      <th>size*JAN_loading</th>\n",
       "      <th>BM*JAN_loading</th>\n",
       "      <th>ROE*JAN_loading</th>\n",
       "      <th>INV*JAN_loading</th>\n",
       "      <th>MOM*JAN_loading</th>\n",
       "      <th>REV*JAN_loading</th>\n",
       "      <th>mkt_risk_premium*JAN_loading</th>\n",
       "      <th>index</th>\n",
       "      <th>new_factor</th>\n",
       "    </tr>\n",
       "  </thead>\n",
       "  <tbody>\n",
       "    <tr>\n",
       "      <th>58</th>\n",
       "      <td>000001</td>\n",
       "      <td>2005-08</td>\n",
       "      <td>0.253003</td>\n",
       "      <td>0.340985</td>\n",
       "      <td>0.251701</td>\n",
       "      <td>-0.015849</td>\n",
       "      <td>3.080962</td>\n",
       "      <td>-0.807932</td>\n",
       "      <td>-0.210898</td>\n",
       "      <td>0.002343</td>\n",
       "      <td>...</td>\n",
       "      <td>-0.069924</td>\n",
       "      <td>0.017516</td>\n",
       "      <td>0.021900</td>\n",
       "      <td>0.092573</td>\n",
       "      <td>-0.065935</td>\n",
       "      <td>0.038087</td>\n",
       "      <td>-0.002158</td>\n",
       "      <td>0.068011</td>\n",
       "      <td>58</td>\n",
       "      <td>NaN</td>\n",
       "    </tr>\n",
       "    <tr>\n",
       "      <th>59</th>\n",
       "      <td>000001</td>\n",
       "      <td>2005-09</td>\n",
       "      <td>-0.569475</td>\n",
       "      <td>0.236678</td>\n",
       "      <td>-0.570386</td>\n",
       "      <td>-0.032761</td>\n",
       "      <td>3.250031</td>\n",
       "      <td>-0.791173</td>\n",
       "      <td>-0.209282</td>\n",
       "      <td>0.008043</td>\n",
       "      <td>...</td>\n",
       "      <td>-0.069924</td>\n",
       "      <td>0.019735</td>\n",
       "      <td>0.021927</td>\n",
       "      <td>0.098366</td>\n",
       "      <td>-0.078334</td>\n",
       "      <td>0.043878</td>\n",
       "      <td>-0.000176</td>\n",
       "      <td>0.067519</td>\n",
       "      <td>59</td>\n",
       "      <td>NaN</td>\n",
       "    </tr>\n",
       "    <tr>\n",
       "      <th>60</th>\n",
       "      <td>000001</td>\n",
       "      <td>2005-10</td>\n",
       "      <td>-0.133800</td>\n",
       "      <td>0.340985</td>\n",
       "      <td>-0.135105</td>\n",
       "      <td>-0.034560</td>\n",
       "      <td>3.250031</td>\n",
       "      <td>-0.791173</td>\n",
       "      <td>-0.209137</td>\n",
       "      <td>0.008043</td>\n",
       "      <td>...</td>\n",
       "      <td>-0.069924</td>\n",
       "      <td>0.022077</td>\n",
       "      <td>0.024350</td>\n",
       "      <td>0.108572</td>\n",
       "      <td>-0.095118</td>\n",
       "      <td>0.053215</td>\n",
       "      <td>-0.001025</td>\n",
       "      <td>0.066188</td>\n",
       "      <td>60</td>\n",
       "      <td>0.072232</td>\n",
       "    </tr>\n",
       "    <tr>\n",
       "      <th>61</th>\n",
       "      <td>000001</td>\n",
       "      <td>2005-11</td>\n",
       "      <td>0.071430</td>\n",
       "      <td>0.236678</td>\n",
       "      <td>0.070525</td>\n",
       "      <td>-0.029882</td>\n",
       "      <td>3.250031</td>\n",
       "      <td>-0.791173</td>\n",
       "      <td>-0.209507</td>\n",
       "      <td>0.008043</td>\n",
       "      <td>...</td>\n",
       "      <td>-0.069924</td>\n",
       "      <td>0.021591</td>\n",
       "      <td>0.018005</td>\n",
       "      <td>0.113459</td>\n",
       "      <td>-0.094968</td>\n",
       "      <td>0.053191</td>\n",
       "      <td>-0.000355</td>\n",
       "      <td>0.065696</td>\n",
       "      <td>61</td>\n",
       "      <td>-0.298292</td>\n",
       "    </tr>\n",
       "    <tr>\n",
       "      <th>62</th>\n",
       "      <td>000001</td>\n",
       "      <td>2005-12</td>\n",
       "      <td>0.258093</td>\n",
       "      <td>0.340985</td>\n",
       "      <td>0.256792</td>\n",
       "      <td>-0.019087</td>\n",
       "      <td>3.396977</td>\n",
       "      <td>-0.787342</td>\n",
       "      <td>-0.210215</td>\n",
       "      <td>0.007425</td>\n",
       "      <td>...</td>\n",
       "      <td>2.873076</td>\n",
       "      <td>0.101894</td>\n",
       "      <td>0.015295</td>\n",
       "      <td>0.119281</td>\n",
       "      <td>-0.137167</td>\n",
       "      <td>0.027985</td>\n",
       "      <td>0.001873</td>\n",
       "      <td>0.095037</td>\n",
       "      <td>62</td>\n",
       "      <td>0.134010</td>\n",
       "    </tr>\n",
       "  </tbody>\n",
       "</table>\n",
       "<p>5 rows × 50 columns</p>\n",
       "</div>"
      ]
     },
     "execution_count": 201,
     "metadata": {},
     "output_type": "execute_result"
    }
   ],
   "execution_count": 201
  },
  {
   "metadata": {},
   "cell_type": "markdown",
   "source": "",
   "id": "a050d52c5affa737"
  },
  {
   "metadata": {},
   "cell_type": "markdown",
   "source": [
    "In the first step, we run the cross-sectional regression:\n",
    "$$EXRET_{i,t+1}=\\beta_{0,t}+\\beta_{1,t}SIZE_{t}+\\beta_{2,t}SIZE_{t}*JAN_{t+1}+\\beta_{3,t}BM_{t}+\\beta_{4,t}BM_{t}*JAN_{t+1}+\\beta_{5,t}ROE_{t}+\\beta_{6,t}ROE_{t}*JAN_{t+1}+\\beta_{7,t}INV_{t}+\\\\ \\beta_{8,t}INV_{t}*JAN_{t+1}+\\beta_{9,t}MOM_{t}+\\beta_{10,t}MOM_{t}*JAN_{t+1}+\\beta_{11,t}REV_{t}+\\beta_{12,t}REV_{t}*JAN_{t+1}+\\beta_{13,t}MRKRP_{t}+\\beta_{14,t}MKTRP_{t}*JAN_{t+1}+\\beta_{15,t}new\\_factor_{t}+e_{i,t+1}$$\n",
    "\n",
    "Then we can get the time-series average of the coefficients:\n",
    "$$\\bar{\\beta_i}=\\frac{1}{T}\\sum_{t=1}^{T}\\beta_{i,t}$$\n",
    "\n",
    "Also, we can get  Standard errors, t-statistics, and p-values calculated using the Newey and West (1987) adjustment with six lags."
   ],
   "id": "aeb8f4aaaac73790"
  },
  {
   "metadata": {
    "ExecuteTime": {
     "end_time": "2024-06-18T13:53:24.995701Z",
     "start_time": "2024-06-18T13:53:24.992006Z"
    }
   },
   "cell_type": "code",
   "source": "test_data.dtypes",
   "id": "53f0528c83fd43b2",
   "outputs": [
    {
     "data": {
      "text/plain": [
       "Stkcd                              object\n",
       "month                           period[M]\n",
       "monthly_stock_return              float64\n",
       "rf                                float64\n",
       "excess_return                     float64\n",
       "market_value                      float64\n",
       "total_assets                      float64\n",
       "total_shareholders_equity         float64\n",
       "BM ratio                          float64\n",
       "ROE                               float64\n",
       "assets_increasing_rate            float64\n",
       "momentum                          float64\n",
       "reversal                          float64\n",
       "size_tag                          float64\n",
       "ROE_tag                           float64\n",
       "bm_tag                            float64\n",
       "INV_tag                           float64\n",
       "momentum_tag                      float64\n",
       "reversal_tag                      float64\n",
       "mkt_risk_premium                  float64\n",
       "SMB                               float64\n",
       "HML                               float64\n",
       "RMW                               float64\n",
       "CMA                               float64\n",
       "t+1_excess_return                 float64\n",
       "mkt_loading                       float64\n",
       "SMB_loading                       float64\n",
       "HML_loading                       float64\n",
       "RMW_loading                       float64\n",
       "CMA_loading                       float64\n",
       "momentum_loading                  float64\n",
       "reversal_loading                  float64\n",
       "JAN                               float64\n",
       "JAN t+1                           float64\n",
       "size*JAN                          float64\n",
       "BM*JAN                            float64\n",
       "ROE*JAN                           float64\n",
       "INV*JAN                           float64\n",
       "MOM*JAN                           float64\n",
       "REV*JAN                           float64\n",
       "mkt_risk_premium*JAN              float64\n",
       "size*JAN_loading                  float64\n",
       "BM*JAN_loading                    float64\n",
       "ROE*JAN_loading                   float64\n",
       "INV*JAN_loading                   float64\n",
       "MOM*JAN_loading                   float64\n",
       "REV*JAN_loading                   float64\n",
       "mkt_risk_premium*JAN_loading      float64\n",
       "index                               int64\n",
       "new_factor                        float64\n",
       "dtype: object"
      ]
     },
     "execution_count": 202,
     "metadata": {},
     "output_type": "execute_result"
    }
   ],
   "execution_count": 202
  },
  {
   "metadata": {
    "ExecuteTime": {
     "end_time": "2024-06-18T13:53:26.256325Z",
     "start_time": "2024-06-18T13:53:26.185759Z"
    }
   },
   "cell_type": "code",
   "source": "test_data[feature_list] = (test_data[feature_list] + normalized_mean) * normalized_std",
   "id": "98ed3e72ab44b576",
   "outputs": [],
   "execution_count": 203
  },
  {
   "metadata": {
    "ExecuteTime": {
     "end_time": "2024-06-18T13:53:26.939906Z",
     "start_time": "2024-06-18T13:53:26.937670Z"
    }
   },
   "cell_type": "code",
   "source": "factors_list = ['month','t+1_excess_return', 'SMB', 'HML', 'RMW', 'CMA', 'momentum', 'reversal', 'mkt_risk_premium', 'size*JAN', 'BM*JAN', 'ROE*JAN', 'INV*JAN', 'MOM*JAN', 'REV*JAN', 'mkt_risk_premium*JAN', 'new_factor']",
   "id": "f0c2dad9f114e8fa",
   "outputs": [],
   "execution_count": 204
  },
  {
   "metadata": {
    "ExecuteTime": {
     "end_time": "2024-06-18T13:53:27.995345Z",
     "start_time": "2024-06-18T13:53:27.703452Z"
    }
   },
   "cell_type": "code",
   "source": [
    "my_fm = fama_macbeth.fama_macbeth(test_data.loc[:,factors_list].dropna(), 'month', 't+1_excess_return', factors_list[2:])\n",
    "result_my_fm = fama_macbeth.fm_summary(my_fm, pvalues=True)\n",
    "result_my_fm"
   ],
   "id": "77df8a3458cefcf0",
   "outputs": [
    {
     "data": {
      "text/plain": [
       "                          mean  std_error      tstat          pval\n",
       "intercept             0.006868   0.006508   1.055319  2.923107e-01\n",
       "SMB                  -0.000219   0.000493  -0.443221  6.579938e-01\n",
       "HML                  -0.000053   0.000311  -0.171192  8.642132e-01\n",
       "RMW                  -0.000056   0.000271  -0.205541  8.373188e-01\n",
       "CMA                   0.000024   0.000163   0.145863  8.841486e-01\n",
       "momentum              0.001617   0.000775   2.087176  3.789753e-02\n",
       "reversal              0.001723   0.000828   2.080993  3.846508e-02\n",
       "mkt_risk_premium      0.001120   0.000698   1.605802  1.095951e-01\n",
       "size*JAN              0.011088   0.020835   0.532194  5.950697e-01\n",
       "BM*JAN                0.008481   0.015936   0.532184  5.950771e-01\n",
       "ROE*JAN              -0.047867   0.157366  -0.304176  7.612499e-01\n",
       "INV*JAN               0.625828   0.711789   0.879233  3.801297e-01\n",
       "MOM*JAN               0.042889   0.064419   0.665786  5.061695e-01\n",
       "REV*JAN              -0.053446   0.040428  -1.321988  1.873950e-01\n",
       "mkt_risk_premium*JAN  0.045754   0.042942   1.065500  2.876901e-01\n",
       "new_factor            0.081172   0.003896  20.832969  2.543341e-56"
      ],
      "text/html": [
       "<div>\n",
       "<style scoped>\n",
       "    .dataframe tbody tr th:only-of-type {\n",
       "        vertical-align: middle;\n",
       "    }\n",
       "\n",
       "    .dataframe tbody tr th {\n",
       "        vertical-align: top;\n",
       "    }\n",
       "\n",
       "    .dataframe thead th {\n",
       "        text-align: right;\n",
       "    }\n",
       "</style>\n",
       "<table border=\"1\" class=\"dataframe\">\n",
       "  <thead>\n",
       "    <tr style=\"text-align: right;\">\n",
       "      <th></th>\n",
       "      <th>mean</th>\n",
       "      <th>std_error</th>\n",
       "      <th>tstat</th>\n",
       "      <th>pval</th>\n",
       "    </tr>\n",
       "  </thead>\n",
       "  <tbody>\n",
       "    <tr>\n",
       "      <th>intercept</th>\n",
       "      <td>0.006868</td>\n",
       "      <td>0.006508</td>\n",
       "      <td>1.055319</td>\n",
       "      <td>2.923107e-01</td>\n",
       "    </tr>\n",
       "    <tr>\n",
       "      <th>SMB</th>\n",
       "      <td>-0.000219</td>\n",
       "      <td>0.000493</td>\n",
       "      <td>-0.443221</td>\n",
       "      <td>6.579938e-01</td>\n",
       "    </tr>\n",
       "    <tr>\n",
       "      <th>HML</th>\n",
       "      <td>-0.000053</td>\n",
       "      <td>0.000311</td>\n",
       "      <td>-0.171192</td>\n",
       "      <td>8.642132e-01</td>\n",
       "    </tr>\n",
       "    <tr>\n",
       "      <th>RMW</th>\n",
       "      <td>-0.000056</td>\n",
       "      <td>0.000271</td>\n",
       "      <td>-0.205541</td>\n",
       "      <td>8.373188e-01</td>\n",
       "    </tr>\n",
       "    <tr>\n",
       "      <th>CMA</th>\n",
       "      <td>0.000024</td>\n",
       "      <td>0.000163</td>\n",
       "      <td>0.145863</td>\n",
       "      <td>8.841486e-01</td>\n",
       "    </tr>\n",
       "    <tr>\n",
       "      <th>momentum</th>\n",
       "      <td>0.001617</td>\n",
       "      <td>0.000775</td>\n",
       "      <td>2.087176</td>\n",
       "      <td>3.789753e-02</td>\n",
       "    </tr>\n",
       "    <tr>\n",
       "      <th>reversal</th>\n",
       "      <td>0.001723</td>\n",
       "      <td>0.000828</td>\n",
       "      <td>2.080993</td>\n",
       "      <td>3.846508e-02</td>\n",
       "    </tr>\n",
       "    <tr>\n",
       "      <th>mkt_risk_premium</th>\n",
       "      <td>0.001120</td>\n",
       "      <td>0.000698</td>\n",
       "      <td>1.605802</td>\n",
       "      <td>1.095951e-01</td>\n",
       "    </tr>\n",
       "    <tr>\n",
       "      <th>size*JAN</th>\n",
       "      <td>0.011088</td>\n",
       "      <td>0.020835</td>\n",
       "      <td>0.532194</td>\n",
       "      <td>5.950697e-01</td>\n",
       "    </tr>\n",
       "    <tr>\n",
       "      <th>BM*JAN</th>\n",
       "      <td>0.008481</td>\n",
       "      <td>0.015936</td>\n",
       "      <td>0.532184</td>\n",
       "      <td>5.950771e-01</td>\n",
       "    </tr>\n",
       "    <tr>\n",
       "      <th>ROE*JAN</th>\n",
       "      <td>-0.047867</td>\n",
       "      <td>0.157366</td>\n",
       "      <td>-0.304176</td>\n",
       "      <td>7.612499e-01</td>\n",
       "    </tr>\n",
       "    <tr>\n",
       "      <th>INV*JAN</th>\n",
       "      <td>0.625828</td>\n",
       "      <td>0.711789</td>\n",
       "      <td>0.879233</td>\n",
       "      <td>3.801297e-01</td>\n",
       "    </tr>\n",
       "    <tr>\n",
       "      <th>MOM*JAN</th>\n",
       "      <td>0.042889</td>\n",
       "      <td>0.064419</td>\n",
       "      <td>0.665786</td>\n",
       "      <td>5.061695e-01</td>\n",
       "    </tr>\n",
       "    <tr>\n",
       "      <th>REV*JAN</th>\n",
       "      <td>-0.053446</td>\n",
       "      <td>0.040428</td>\n",
       "      <td>-1.321988</td>\n",
       "      <td>1.873950e-01</td>\n",
       "    </tr>\n",
       "    <tr>\n",
       "      <th>mkt_risk_premium*JAN</th>\n",
       "      <td>0.045754</td>\n",
       "      <td>0.042942</td>\n",
       "      <td>1.065500</td>\n",
       "      <td>2.876901e-01</td>\n",
       "    </tr>\n",
       "    <tr>\n",
       "      <th>new_factor</th>\n",
       "      <td>0.081172</td>\n",
       "      <td>0.003896</td>\n",
       "      <td>20.832969</td>\n",
       "      <td>2.543341e-56</td>\n",
       "    </tr>\n",
       "  </tbody>\n",
       "</table>\n",
       "</div>"
      ]
     },
     "execution_count": 205,
     "metadata": {},
     "output_type": "execute_result"
    }
   ],
   "execution_count": 205
  },
  {
   "metadata": {},
   "cell_type": "markdown",
   "source": "## 2.2 Backtesting",
   "id": "b897994532edc3bd"
  },
  {
   "metadata": {},
   "cell_type": "code",
   "source": [
    "# test_data[test_data['new_factor'] == 0]['new_factor'] = -1\n",
    "# test_data[test_data['new_factor'] == -1]['new_factor'] = 0"
   ],
   "id": "a3eeef75db3198d5",
   "outputs": [],
   "execution_count": null
  },
  {
   "metadata": {
    "ExecuteTime": {
     "end_time": "2024-06-18T13:53:29.740090Z",
     "start_time": "2024-06-18T13:53:29.616207Z"
    }
   },
   "cell_type": "code",
   "source": "long_short = test_data.groupby(['month'], observed=False).apply(lambda x: np.average(x['excess_return'], weights=x['new_factor']))",
   "id": "c84188601508f31e",
   "outputs": [],
   "execution_count": 206
  },
  {
   "metadata": {
    "ExecuteTime": {
     "end_time": "2024-06-18T13:53:30.371601Z",
     "start_time": "2024-06-18T13:53:30.369164Z"
    }
   },
   "cell_type": "code",
   "source": [
    "long_short = long_short.to_frame()\n",
    "long_short.columns = ['new_factor']"
   ],
   "id": "1b5fcb3c16341302",
   "outputs": [],
   "execution_count": 207
  },
  {
   "metadata": {
    "ExecuteTime": {
     "end_time": "2024-06-18T13:53:31.634716Z",
     "start_time": "2024-06-18T13:53:31.018126Z"
    }
   },
   "cell_type": "code",
   "source": [
    "# import and clean the risk-free rate data\n",
    "rf = pd.read_excel('source_data/Risk-Free Rate/TRD_Nrrate.xlsx')  # load the risk-free rate data\n",
    "rf = rf.iloc[2:, :]\n",
    "rf = rf[['Clsdt', 'Nrrdaydt','Nrrdata']]\n",
    "rf.columns = ['date', 'daily_rf','rf']\n",
    "rf['date'] = pd.to_datetime(rf['date'])\n",
    "rf['daily_rf'] = rf['daily_rf'] / 100  # change the unit of the risk-free rate to decimal\n",
    "rf['rf'] = rf['rf'] / 100  # change the unit of the risk-free rate to decimal\n",
    "rf['month'] = rf['date'].dt.to_period('M')\n",
    "rf_monthly = rf.groupby('month').agg({'daily_rf': [lambda x: (1 + x).prod() - 1], 'rf': 'last'})\n",
    "rf_monthly.reset_index(inplace=True)\n",
    "rf_monthly.columns = ['month', 'monthly_rf','rf']"
   ],
   "id": "355052c574a30aa6",
   "outputs": [],
   "execution_count": 208
  },
  {
   "metadata": {
    "ExecuteTime": {
     "end_time": "2024-06-18T13:53:33.401832Z",
     "start_time": "2024-06-18T13:53:32.641400Z"
    }
   },
   "cell_type": "code",
   "source": [
    "# load fama-french five factors data\n",
    "factor_data = pd.read_excel(\n",
    "    'source_data/5-Factor Model Index (Monthly)/STK_MKT_FIVEFACMONTH.xlsx')\n",
    "factor_data = factor_data[\n",
    "    ['MarkettypeID', 'TradingMonth', 'Portfolios', 'RiskPremium2', 'SMB2', 'HML2', 'RMW2', 'CMA2']]\n",
    "factor_data.columns = ['MarkettypeID', 'date', 'portfolios', 'risk_premium', 'smb', 'hml', 'rmw', 'cma']\n",
    "factor_data = factor_data.iloc[2:, :]\n",
    "factor_data = factor_data[factor_data['portfolios'] == 1]\n",
    "factor_data = factor_data[\n",
    "    factor_data['MarkettypeID'] == \"P9706\"]  # P9706: SSE-SZSE A share market (excluding STAR Market, ChiNext)\n",
    "factor_data.reset_index(drop=True, inplace=True)  # reset the index to 0,1,2,...\n",
    "factor_data = factor_data[['date', 'risk_premium', 'smb', 'hml', 'rmw', 'cma']]\n",
    "factor_data.columns = ['month', 'mkt_risk_premium', 'SMB', 'HML', 'RMW', 'CMA']\n",
    "factor_data['month'] = pd.to_datetime(factor_data['month']).dt.to_period('M')"
   ],
   "id": "76ceb8be9c8855ff",
   "outputs": [],
   "execution_count": 209
  },
  {
   "metadata": {
    "ExecuteTime": {
     "end_time": "2024-06-18T13:53:35.329977Z",
     "start_time": "2024-06-18T13:53:35.321351Z"
    }
   },
   "cell_type": "code",
   "source": [
    "long_short['month'] = long_short.index\n",
    "\n",
    "# merge rf and market return to long_short and long_short\n",
    "long_short['rf'] = long_short['month'].map(rf_monthly.set_index('month')['monthly_rf'])\n",
    "long_short['mkt_risk_premium'] = long_short['month'].map(factor_data.set_index('month')['mkt_risk_premium'])\n",
    "long_short['market_return'] = long_short['mkt_risk_premium'] + long_short['rf']\n",
    "long_short['new_factor'] = long_short['new_factor'] + long_short['rf']\n",
    "\n",
    "long_short.head()"
   ],
   "id": "72a96c2d04029c93",
   "outputs": [
    {
     "data": {
      "text/plain": [
       "         new_factor    month        rf mkt_risk_premium market_return\n",
       "month                                                                \n",
       "2003-03         NaN  2003-03  0.001675        -0.006907     -0.005232\n",
       "2003-04         NaN  2003-04  0.001621         0.000733      0.002354\n",
       "2003-05    0.034299  2003-05  0.001675         0.040669      0.042344\n",
       "2003-06   -0.067796  2003-06  0.001621        -0.059786     -0.058165\n",
       "2003-07   -0.025485  2003-07  0.001675        -0.011581     -0.009906"
      ],
      "text/html": [
       "<div>\n",
       "<style scoped>\n",
       "    .dataframe tbody tr th:only-of-type {\n",
       "        vertical-align: middle;\n",
       "    }\n",
       "\n",
       "    .dataframe tbody tr th {\n",
       "        vertical-align: top;\n",
       "    }\n",
       "\n",
       "    .dataframe thead th {\n",
       "        text-align: right;\n",
       "    }\n",
       "</style>\n",
       "<table border=\"1\" class=\"dataframe\">\n",
       "  <thead>\n",
       "    <tr style=\"text-align: right;\">\n",
       "      <th></th>\n",
       "      <th>new_factor</th>\n",
       "      <th>month</th>\n",
       "      <th>rf</th>\n",
       "      <th>mkt_risk_premium</th>\n",
       "      <th>market_return</th>\n",
       "    </tr>\n",
       "    <tr>\n",
       "      <th>month</th>\n",
       "      <th></th>\n",
       "      <th></th>\n",
       "      <th></th>\n",
       "      <th></th>\n",
       "      <th></th>\n",
       "    </tr>\n",
       "  </thead>\n",
       "  <tbody>\n",
       "    <tr>\n",
       "      <th>2003-03</th>\n",
       "      <td>NaN</td>\n",
       "      <td>2003-03</td>\n",
       "      <td>0.001675</td>\n",
       "      <td>-0.006907</td>\n",
       "      <td>-0.005232</td>\n",
       "    </tr>\n",
       "    <tr>\n",
       "      <th>2003-04</th>\n",
       "      <td>NaN</td>\n",
       "      <td>2003-04</td>\n",
       "      <td>0.001621</td>\n",
       "      <td>0.000733</td>\n",
       "      <td>0.002354</td>\n",
       "    </tr>\n",
       "    <tr>\n",
       "      <th>2003-05</th>\n",
       "      <td>0.034299</td>\n",
       "      <td>2003-05</td>\n",
       "      <td>0.001675</td>\n",
       "      <td>0.040669</td>\n",
       "      <td>0.042344</td>\n",
       "    </tr>\n",
       "    <tr>\n",
       "      <th>2003-06</th>\n",
       "      <td>-0.067796</td>\n",
       "      <td>2003-06</td>\n",
       "      <td>0.001621</td>\n",
       "      <td>-0.059786</td>\n",
       "      <td>-0.058165</td>\n",
       "    </tr>\n",
       "    <tr>\n",
       "      <th>2003-07</th>\n",
       "      <td>-0.025485</td>\n",
       "      <td>2003-07</td>\n",
       "      <td>0.001675</td>\n",
       "      <td>-0.011581</td>\n",
       "      <td>-0.009906</td>\n",
       "    </tr>\n",
       "  </tbody>\n",
       "</table>\n",
       "</div>"
      ]
     },
     "execution_count": 210,
     "metadata": {},
     "output_type": "execute_result"
    }
   ],
   "execution_count": 210
  },
  {
   "metadata": {
    "ExecuteTime": {
     "end_time": "2024-06-18T13:53:36.305468Z",
     "start_time": "2024-06-18T13:53:36.303454Z"
    }
   },
   "cell_type": "code",
   "source": "# long_short['new_factor'] = long_short['new_factor'] - long_short['rf']",
   "id": "8f3dbfce7dc87080",
   "outputs": [],
   "execution_count": 211
  },
  {
   "metadata": {
    "ExecuteTime": {
     "end_time": "2024-06-18T13:54:14.885211Z",
     "start_time": "2024-06-18T13:54:14.882502Z"
    }
   },
   "cell_type": "code",
   "source": "long_short['temp'] = long_short['new_factor'].apply(lambda x: x if x >=-.1 else -0.1)",
   "id": "a5c6bc091e8a7f56",
   "outputs": [],
   "execution_count": 219
  },
  {
   "metadata": {
    "ExecuteTime": {
     "end_time": "2024-06-18T13:56:21.952498Z",
     "start_time": "2024-06-18T13:56:21.871105Z"
    }
   },
   "cell_type": "code",
   "source": [
    "# np.prod(long_short['temp'] + 1) - 1\n",
    "long_short['temp'].plot()\n",
    "# (long_short['temp']+1).cumprod().plot()\n",
    "\n",
    "# np.prod(long_short['new_factor'] + 1) - 1\n",
    "# long_short['new_factor'].plot()"
   ],
   "id": "619d630639010da5",
   "outputs": [
    {
     "data": {
      "text/plain": [
       "<Axes: xlabel='month'>"
      ]
     },
     "execution_count": 225,
     "metadata": {},
     "output_type": "execute_result"
    },
    {
     "data": {
      "text/plain": [
       "<Figure size 640x480 with 1 Axes>"
      ],
      "image/png": "[encoded data removed]"
     },
     "metadata": {},
     "output_type": "display_data"
    }
   ],
   "execution_count": 225
  },
  {
   "metadata": {},
   "cell_type": "code",
   "source": "test_data.to_feather('temp/test_data.feather')",
   "id": "897d03958b9b9282",
   "outputs": [],
   "execution_count": null
  },
  {
   "metadata": {},
   "cell_type": "markdown",
   "source": "# 3. figure out what anomaly it is",
   "id": "fd9305dee87b4865"
  },
  {
   "metadata": {},
   "cell_type": "markdown",
   "source": "## 3.1 regress new_factor on various variables",
   "id": "c3082677c70e2f23"
  },
  {
   "metadata": {},
   "cell_type": "code",
   "source": "test_data = pd.read_feather('temp/test_data.feather')",
   "id": "7044eba3c5e85b62",
   "outputs": [],
   "execution_count": null
  },
  {
   "metadata": {
    "ExecuteTime": {
     "end_time": "2024-06-18T13:56:42.811191Z",
     "start_time": "2024-06-18T13:56:42.717206Z"
    }
   },
   "cell_type": "code",
   "source": [
    "monthly_data = test_data.dropna()\n",
    "monthly_data.head()"
   ],
   "id": "f38eb85c32a6abd4",
   "outputs": [
    {
     "data": {
      "text/plain": [
       "     Stkcd    month  monthly_stock_return        rf  excess_return  \\\n",
       "60  000001  2005-10             -0.018691  0.000201      -0.019150   \n",
       "61  000001  2005-11              0.012757  0.000140       0.012359   \n",
       "62  000001  2005-12              0.041360  0.000201       0.040901   \n",
       "63  000001  2006-01              0.024192  0.000201       0.023733   \n",
       "64  000001  2006-02              0.067155  0.000017       0.066879   \n",
       "\n",
       "    market_value  total_assets  total_shareholders_equity    BM ratio  \\\n",
       "60  7.018873e+20  1.662934e+21               7.924310e+19  160.837545   \n",
       "61  7.018873e+20  1.662934e+21               7.924310e+19  160.827497   \n",
       "62  7.018873e+20  1.662934e+21               7.924310e+19  160.808284   \n",
       "63  7.018873e+20  1.662934e+21               7.924310e+19  160.795245   \n",
       "64  7.018873e+20  1.662934e+21               7.924310e+19  160.765941   \n",
       "\n",
       "         ROE  ...  mkt_risk_premium*JAN  size*JAN_loading  BM*JAN_loading  \\\n",
       "60  0.203581  ...             -0.001454          0.022077        0.024350   \n",
       "61  0.203581  ...             -0.001454          0.021591        0.018005   \n",
       "62  0.200260  ...              0.061053          0.101894        0.015295   \n",
       "63  0.192047  ...             -0.001454          0.100435        0.015877   \n",
       "64  0.192047  ...             -0.001454          0.098062        0.013788   \n",
       "\n",
       "    ROE*JAN_loading  INV*JAN_loading  MOM*JAN_loading  REV*JAN_loading  \\\n",
       "60         0.108572        -0.095118         0.053215        -0.001025   \n",
       "61         0.113459        -0.094968         0.053191        -0.000355   \n",
       "62         0.119281        -0.137167         0.027985         0.001873   \n",
       "63         0.121709        -0.113447         0.023780         0.001079   \n",
       "64         0.124993        -0.119494         0.022713        -0.000188   \n",
       "\n",
       "    mkt_risk_premium*JAN_loading  index  new_factor  \n",
       "60                      0.066188     60    0.072232  \n",
       "61                      0.065696     61   -0.298292  \n",
       "62                      0.095037     62    0.134010  \n",
       "63                      0.074014     63   -0.049418  \n",
       "64                      0.094289     64   -0.261592  \n",
       "\n",
       "[5 rows x 50 columns]"
      ],
      "text/html": [
       "<div>\n",
       "<style scoped>\n",
       "    .dataframe tbody tr th:only-of-type {\n",
       "        vertical-align: middle;\n",
       "    }\n",
       "\n",
       "    .dataframe tbody tr th {\n",
       "        vertical-align: top;\n",
       "    }\n",
       "\n",
       "    .dataframe thead th {\n",
       "        text-align: right;\n",
       "    }\n",
       "</style>\n",
       "<table border=\"1\" class=\"dataframe\">\n",
       "  <thead>\n",
       "    <tr style=\"text-align: right;\">\n",
       "      <th></th>\n",
       "      <th>Stkcd</th>\n",
       "      <th>month</th>\n",
       "      <th>monthly_stock_return</th>\n",
       "      <th>rf</th>\n",
       "      <th>excess_return</th>\n",
       "      <th>market_value</th>\n",
       "      <th>total_assets</th>\n",
       "      <th>total_shareholders_equity</th>\n",
       "      <th>BM ratio</th>\n",
       "      <th>ROE</th>\n",
       "      <th>...</th>\n",
       "      <th>mkt_risk_premium*JAN</th>\n",
       "      <th>size*JAN_loading</th>\n",
       "      <th>BM*JAN_loading</th>\n",
       "      <th>ROE*JAN_loading</th>\n",
       "      <th>INV*JAN_loading</th>\n",
       "      <th>MOM*JAN_loading</th>\n",
       "      <th>REV*JAN_loading</th>\n",
       "      <th>mkt_risk_premium*JAN_loading</th>\n",
       "      <th>index</th>\n",
       "      <th>new_factor</th>\n",
       "    </tr>\n",
       "  </thead>\n",
       "  <tbody>\n",
       "    <tr>\n",
       "      <th>60</th>\n",
       "      <td>000001</td>\n",
       "      <td>2005-10</td>\n",
       "      <td>-0.018691</td>\n",
       "      <td>0.000201</td>\n",
       "      <td>-0.019150</td>\n",
       "      <td>7.018873e+20</td>\n",
       "      <td>1.662934e+21</td>\n",
       "      <td>7.924310e+19</td>\n",
       "      <td>160.837545</td>\n",
       "      <td>0.203581</td>\n",
       "      <td>...</td>\n",
       "      <td>-0.001454</td>\n",
       "      <td>0.022077</td>\n",
       "      <td>0.024350</td>\n",
       "      <td>0.108572</td>\n",
       "      <td>-0.095118</td>\n",
       "      <td>0.053215</td>\n",
       "      <td>-0.001025</td>\n",
       "      <td>0.066188</td>\n",
       "      <td>60</td>\n",
       "      <td>0.072232</td>\n",
       "    </tr>\n",
       "    <tr>\n",
       "      <th>61</th>\n",
       "      <td>000001</td>\n",
       "      <td>2005-11</td>\n",
       "      <td>0.012757</td>\n",
       "      <td>0.000140</td>\n",
       "      <td>0.012359</td>\n",
       "      <td>7.018873e+20</td>\n",
       "      <td>1.662934e+21</td>\n",
       "      <td>7.924310e+19</td>\n",
       "      <td>160.827497</td>\n",
       "      <td>0.203581</td>\n",
       "      <td>...</td>\n",
       "      <td>-0.001454</td>\n",
       "      <td>0.021591</td>\n",
       "      <td>0.018005</td>\n",
       "      <td>0.113459</td>\n",
       "      <td>-0.094968</td>\n",
       "      <td>0.053191</td>\n",
       "      <td>-0.000355</td>\n",
       "      <td>0.065696</td>\n",
       "      <td>61</td>\n",
       "      <td>-0.298292</td>\n",
       "    </tr>\n",
       "    <tr>\n",
       "      <th>62</th>\n",
       "      <td>000001</td>\n",
       "      <td>2005-12</td>\n",
       "      <td>0.041360</td>\n",
       "      <td>0.000201</td>\n",
       "      <td>0.040901</td>\n",
       "      <td>7.018873e+20</td>\n",
       "      <td>1.662934e+21</td>\n",
       "      <td>7.924310e+19</td>\n",
       "      <td>160.808284</td>\n",
       "      <td>0.200260</td>\n",
       "      <td>...</td>\n",
       "      <td>0.061053</td>\n",
       "      <td>0.101894</td>\n",
       "      <td>0.015295</td>\n",
       "      <td>0.119281</td>\n",
       "      <td>-0.137167</td>\n",
       "      <td>0.027985</td>\n",
       "      <td>0.001873</td>\n",
       "      <td>0.095037</td>\n",
       "      <td>62</td>\n",
       "      <td>0.134010</td>\n",
       "    </tr>\n",
       "    <tr>\n",
       "      <th>63</th>\n",
       "      <td>000001</td>\n",
       "      <td>2006-01</td>\n",
       "      <td>0.024192</td>\n",
       "      <td>0.000201</td>\n",
       "      <td>0.023733</td>\n",
       "      <td>7.018873e+20</td>\n",
       "      <td>1.662934e+21</td>\n",
       "      <td>7.924310e+19</td>\n",
       "      <td>160.795245</td>\n",
       "      <td>0.192047</td>\n",
       "      <td>...</td>\n",
       "      <td>-0.001454</td>\n",
       "      <td>0.100435</td>\n",
       "      <td>0.015877</td>\n",
       "      <td>0.121709</td>\n",
       "      <td>-0.113447</td>\n",
       "      <td>0.023780</td>\n",
       "      <td>0.001079</td>\n",
       "      <td>0.074014</td>\n",
       "      <td>63</td>\n",
       "      <td>-0.049418</td>\n",
       "    </tr>\n",
       "    <tr>\n",
       "      <th>64</th>\n",
       "      <td>000001</td>\n",
       "      <td>2006-02</td>\n",
       "      <td>0.067155</td>\n",
       "      <td>0.000017</td>\n",
       "      <td>0.066879</td>\n",
       "      <td>7.018873e+20</td>\n",
       "      <td>1.662934e+21</td>\n",
       "      <td>7.924310e+19</td>\n",
       "      <td>160.765941</td>\n",
       "      <td>0.192047</td>\n",
       "      <td>...</td>\n",
       "      <td>-0.001454</td>\n",
       "      <td>0.098062</td>\n",
       "      <td>0.013788</td>\n",
       "      <td>0.124993</td>\n",
       "      <td>-0.119494</td>\n",
       "      <td>0.022713</td>\n",
       "      <td>-0.000188</td>\n",
       "      <td>0.094289</td>\n",
       "      <td>64</td>\n",
       "      <td>-0.261592</td>\n",
       "    </tr>\n",
       "  </tbody>\n",
       "</table>\n",
       "<p>5 rows × 50 columns</p>\n",
       "</div>"
      ]
     },
     "execution_count": 226,
     "metadata": {},
     "output_type": "execute_result"
    }
   ],
   "execution_count": 226
  },
  {
   "metadata": {},
   "cell_type": "markdown",
   "source": "following the paper, we will regress the new factor on the ff5 with momentum and reversal factors.",
   "id": "5551e19f964781f7"
  },
  {
   "metadata": {
    "ExecuteTime": {
     "end_time": "2024-06-18T13:56:45.338929Z",
     "start_time": "2024-06-18T13:56:44.249195Z"
    }
   },
   "cell_type": "code",
   "source": [
    "Y = monthly_data['new_factor']\n",
    "X = monthly_data[['mkt_risk_premium', 'SMB', 'HML', 'RMW', 'CMA', 'momentum', 'reversal', 'mkt_loading', 'SMB_loading', 'HML_loading', 'RMW_loading', 'CMA_loading', 'momentum_loading', 'reversal_loading', 'size_tag', 'ROE_tag', 'bm_tag', 'INV_tag', 'momentum_tag', 'reversal_tag']]\n",
    "X = sm.add_constant(X)\n",
    "model = sm.OLS(Y, X)\n",
    "results = model.fit(cov_type='HAC', cov_kwds={'maxlags':6})"
   ],
   "id": "56d0c6b2b2ed6def",
   "outputs": [],
   "execution_count": 227
  },
  {
   "metadata": {
    "ExecuteTime": {
     "end_time": "2024-06-18T13:56:46.239345Z",
     "start_time": "2024-06-18T13:56:46.199929Z"
    }
   },
   "cell_type": "code",
   "source": [
    "with open(r'output/part3/lag0.html', 'w') as f:\n",
    "    f.write(results.summary().as_html())"
   ],
   "id": "912460a3980c8636",
   "outputs": [],
   "execution_count": 228
  },
  {
   "metadata": {},
   "cell_type": "markdown",
   "source": "according to the results above, we can find that the cross-sectional factor values can only explain the model's output little (r-squared is 0.098), so we try to add lag items.",
   "id": "707dfff58612cf64"
  },
  {
   "metadata": {
    "ExecuteTime": {
     "end_time": "2024-06-18T13:56:49.877378Z",
     "start_time": "2024-06-18T13:56:47.687790Z"
    }
   },
   "cell_type": "code",
   "source": [
    "for i in range(1,32):\n",
    "    monthly_data[f'SMB_lag{i}'] = monthly_data['SMB'].shift(i)\n",
    "    monthly_data[f'HML_lag{i}'] = monthly_data['HML'].shift(i)\n",
    "    monthly_data[f'RMW_lag{i}'] = monthly_data['RMW'].shift(i)\n",
    "    monthly_data[f'CMA_lag{i}'] = monthly_data['CMA'].shift(i)\n",
    "    monthly_data[f'momentum_lag{i}'] = monthly_data['momentum'].shift(i)\n",
    "    monthly_data[f'reversal_lag{i}'] = monthly_data['reversal'].shift(i)\n",
    "    monthly_data[f'mkt_risk_premium_lag{i}'] = monthly_data['mkt_risk_premium'].shift(i)\n",
    "    monthly_data[f'mkt_loading_lag{i}'] = monthly_data['mkt_loading'].shift(i)\n",
    "    monthly_data[f'SMB_loading_lag{i}'] = monthly_data['SMB_loading'].shift(i)\n",
    "    monthly_data[f'HML_loading_lag{i}'] = monthly_data['HML_loading'].shift(i)\n",
    "    monthly_data[f'RMW_loading_lag{i}'] = monthly_data['RMW_loading'].shift(i)\n",
    "    monthly_data[f'CMA_loading_lag{i}'] = monthly_data['CMA_loading'].shift(i)\n",
    "    monthly_data[f'momentum_loading_lag{i}'] = monthly_data['momentum_loading'].shift(i)\n",
    "    monthly_data[f'reversal_loading_lag{i}'] = monthly_data['reversal_loading'].shift(i)\n",
    "    monthly_data[f'size_tag_lag{i}'] = monthly_data['size_tag'].shift(i)\n",
    "    monthly_data[f'ROE_tag_lag{i}'] = monthly_data['ROE_tag'].shift(i)\n",
    "    monthly_data[f'bm_tag_lag{i}'] = monthly_data['bm_tag'].shift(i)\n",
    "    monthly_data[f'INV_tag_lag{i}'] = monthly_data['INV_tag'].shift(i)\n",
    "    monthly_data[f'momentum_tag_lag{i}'] = monthly_data['momentum_tag'].shift(i)\n",
    "    monthly_data[f'reversal_tag_lag{i}'] = monthly_data['reversal_tag'].shift(i)"
   ],
   "id": "29e13a791ac6db4a",
   "outputs": [],
   "execution_count": 229
  },
  {
   "metadata": {
    "ExecuteTime": {
     "end_time": "2024-06-18T13:57:29.217609Z",
     "start_time": "2024-06-18T13:56:50.627333Z"
    }
   },
   "cell_type": "code",
   "source": [
    "Y = monthly_data['new_factor'][31:]\n",
    "X = monthly_data[['SMB', 'HML', 'RMW', 'CMA', 'momentum', 'reversal', 'mkt_risk_premium']]\n",
    "for i in range(1,32):\n",
    "    X = pd.concat([X, monthly_data[[f'SMB_lag{i}', f'HML_lag{i}', f'RMW_lag{i}', f'CMA_lag{i}', f'momentum_lag{i}', f'reversal_lag{i}', f'mkt_risk_premium_lag{i}', f'mkt_loading_lag{i}', f'SMB_loading_lag{i}', f'HML_loading_lag{i}', f'RMW_loading_lag{i}', f'CMA_loading_lag{i}', f'momentum_loading_lag{i}', f'reversal_loading_lag{i}', f'size_tag_lag{i}', f'ROE_tag_lag{i}', f'bm_tag_lag{i}', f'INV_tag_lag{i}', f'momentum_tag_lag{i}', f'reversal_tag_lag{i}']]], axis=1)\n",
    "    # X = pd.concat([X, monthly_data[[f'SMB_lag{i}', f'HML_lag{i}', f'RMW_lag{i}', f'CMA_lag{i}', f'momentum_lag{i}', f'reversal_lag{i}', f'mkt_risk_premium_lag{i}', f'mkt_loading_lag{i}', f'SMB_loading_lag{i}', f'HML_loading_lag{i}', f'RMW_loading_lag{i}', f'CMA_loading_lag{i}', f'momentum_loading_lag{i}', f'reversal_loading_lag{i}']]], axis=1)\n",
    "    # X = pd.concat([X, monthly_data[[f'SMB_lag{i}', f'HML_lag{i}', f'RMW_lag{i}', f'CMA_lag{i}', f'momentum_lag{i}', f'reversal_lag{i}', f'mkt_risk_premium_lag{i}', f'size_tag_lag{i}', f'ROE_tag_lag{i}', f'bm_tag_lag{i}', f'INV_tag_lag{i}', f'momentum_tag_lag{i}', f'reversal_tag_lag{i}']]], axis=1)\n",
    "X = X.dropna()\n",
    "X = sm.add_constant(X)\n",
    "model = sm.OLS(Y, X)\n",
    "results = model.fit(cov_type='HAC', cov_kwds={'maxlags':6})\n",
    "\n",
    "with open(r'output/part3/lag31.html', 'w') as f:\n",
    "    f.write(results.summary().as_html())"
   ],
   "id": "5c0cf64aa4e1685b",
   "outputs": [],
   "execution_count": 230
  },
  {
   "metadata": {},
   "cell_type": "markdown",
   "source": [
    "from the file we can find that, although it's natural for r-squired to increase as we add more variables, the adjusted r-squared keeps increasing, which means that the model is getting better. \n",
    "\n",
    "Also, from output/part3/temp.html we can find that the p-value of nearly all variables is less than 0.05, which means that the model is significant.\n",
    "\n",
    "Moreover, when comparing the tag_only and loading_only (which stands for the relative factor loading and the absolute factor loading), we find that the tag_only model is better than the loading_only model, which means that the new factor is more related to the relative degree than the value themselves."
   ],
   "id": "4dc41736ad9f3da2"
  },
  {
   "metadata": {},
   "cell_type": "markdown",
   "source": "So, we can know that, the ff5 on cross-sectional level can explain the new factor little, but if we add lag items, the model will become significant. And since our model is good in backtesting, we conclude that the lag items are important in stock selection.",
   "id": "27a36a30f22404e7"
  },
  {
   "metadata": {},
   "cell_type": "markdown",
   "source": "## 3.2 conclude from model",
   "id": "b46c1a862c1441b7"
  },
  {
   "metadata": {},
   "cell_type": "markdown",
   "source": [
    "get the gradient of the model's output with respect to the input\n",
    "\n",
    "![SSD way](img/SSD-sum.png)"
   ],
   "id": "442afa4124d782cd"
  },
  {
   "metadata": {},
   "cell_type": "code",
   "source": "# tmp",
   "id": "3bce80b0303d8cbb",
   "outputs": [],
   "execution_count": null
  },
  {
   "metadata": {},
   "cell_type": "code",
   "source": [
    "model = TransformerModel(input_dim=input_dim, d_model=d_model, nhead=nhead, num_encoder_layers=num_encoder_layers, dim_feedforward=dim_feedforward)\n",
    "model.load_state_dict(torch.load('models/new_10_epochs.pth'))\n",
    "model.to(device)"
   ],
   "id": "16d90abe11449683",
   "outputs": [],
   "execution_count": null
  },
  {
   "metadata": {},
   "cell_type": "code",
   "source": [
    "# tmp.requires_grad = True\n",
    "# output = model(tmp)\n",
    "# model.zero_grad()\n",
    "# output.backward(torch.ones_like(output))\n",
    "# input_gradients = tmp.grad\n",
    "# input_gradients"
   ],
   "id": "d7d25625aab21204",
   "outputs": [],
   "execution_count": null
  },
  {
   "metadata": {},
   "cell_type": "code",
   "source": "# tmp.shape",
   "id": "1b6dcf95d3caf864",
   "outputs": [],
   "execution_count": null
  },
  {
   "metadata": {},
   "cell_type": "code",
   "source": [
    "train_data = normalized_data[normalized_data['month'] < '2015-01-01']\n",
    "train_data = train_data.dropna()\n",
    "train_data"
   ],
   "id": "adc3c34fd51619f3",
   "outputs": [],
   "execution_count": null
  },
  {
   "metadata": {},
   "cell_type": "code",
   "source": [
    "src_data = train_data.groupby('Stkcd', observed=False).apply(\n",
    "    lambda x: get_src(x[feature_list], len(x) - input_seq_size - output_seq_size + 1, input_seq_size), include_groups=False)\n",
    "src_data.dropna(inplace=True)\n",
    "src_data = np.concatenate(src_data)\n",
    "src_data = src_data.reshape(src_data.shape[0], input_dim)\n",
    "src_data = torch.tensor(src_data).float().to(device)\n",
    "\n",
    "tgt_data = train_data.groupby('Stkcd', observed=False).apply(\n",
    "    lambda x: get_tgt(x[feature_list], len(x) - input_seq_size - output_seq_size + 1, input_seq_size, output_seq_size), include_groups=False)\n",
    "tgt_data.dropna(inplace=True)\n",
    "tgt_data = np.concatenate(tgt_data)\n",
    "tgt_data = tgt_data.reshape(tgt_data.shape[0])\n",
    "tgt_data = torch.tensor(tgt_data).float().to(device)\n",
    "\n",
    "\n",
    "# Create DataLoader\n",
    "dataset = StockDataset(src_data, tgt_data, seq_length)\n",
    "dataloader = DataLoader(dataset, batch_size=batch_size, shuffle=True)"
   ],
   "id": "b0f5db20a9904f2b",
   "outputs": [],
   "execution_count": null
  },
  {
   "metadata": {},
   "cell_type": "code",
   "source": [
    "criterion = nn.MSELoss()\n",
    "optimizer = optim.Adam(model.parameters(), lr=learning_rate)"
   ],
   "id": "e4c8be450b1446b6",
   "outputs": [],
   "execution_count": null
  },
  {
   "metadata": {},
   "cell_type": "code",
   "source": [
    "# calculate the SSD\n",
    "SSD_result = torch.tensor([0,]*960).float().to(device)\n",
    "model.eval()\n",
    "# with torch.no_grad():\n",
    "for batch in dataloader:\n",
    "    x_batch, y_batch = batch\n",
    "    x_batch, y_batch = x_batch.float(), y_batch.float()\n",
    "    # print(x_batch.shape)\n",
    "    x_batch.requires_grad = True\n",
    "    output = model(x_batch)\n",
    "    model.zero_grad()\n",
    "    output.backward(torch.ones_like(output))\n",
    "    input_gradients = x_batch.grad\n",
    "    SSD_result += sum(input_gradients[i][j] ** 2 for i in range(input_gradients.shape[0]) for j in range(input_gradients.shape[1]))"
   ],
   "id": "3245d089db382c41",
   "outputs": [],
   "execution_count": null
  },
  {
   "metadata": {},
   "cell_type": "code",
   "source": [
    "ssd_result = SSD_result.cpu().numpy()\n",
    "ssd_result = ssd_result.reshape(30, 32)\n",
    "ssd_result = pd.DataFrame(ssd_result, columns=feature_list)\n",
    "ssd_result"
   ],
   "id": "8ef7f5bfe5fb6874",
   "outputs": [],
   "execution_count": null
  },
  {
   "metadata": {},
   "cell_type": "code",
   "source": [
    "def get_max_n(x):\n",
    "    return x.nlargest(5).index.tolist()\n",
    "\n",
    "ssd_result.apply(get_max_n, axis=1)"
   ],
   "id": "9b8795d2e7d64fe7",
   "outputs": [],
   "execution_count": null
  }
 ],
 "metadata": {
  "kernelspec": {
   "display_name": "Python 3",
   "language": "python",
   "name": "python3"
  },
  "language_info": {
   "codemirror_mode": {
    "name": "ipython",
    "version": 2
   },
   "file_extension": ".py",
   "mimetype": "text/x-python",
   "name": "python",
   "nbconvert_exporter": "python",
   "pygments_lexer": "ipython2",
   "version": "2.7.6"
  }
 },
 "nbformat": 4,
 "nbformat_minor": 5
}
